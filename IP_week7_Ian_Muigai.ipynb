{
  "nbformat": 4,
  "nbformat_minor": 0,
  "metadata": {
    "colab": {
      "name": "IP_recent.ipynb",
      "provenance": [],
      "collapsed_sections": [
        "rmafoeYPqUfq",
        "RXEg2tm3jcGS",
        "T3LFcwdoqIvM"
      ],
      "toc_visible": true,
      "authorship_tag": "ABX9TyPtTX4MwoLXuPC0fgJlu7O6",
      "include_colab_link": true
    },
    "kernelspec": {
      "display_name": "Python 3",
      "name": "python3"
    }
  },
  "cells": [
    {
      "cell_type": "markdown",
      "metadata": {
        "id": "view-in-github",
        "colab_type": "text"
      },
      "source": [
        "<a href=\"https://colab.research.google.com/github/draglar/house-prices/blob/main/IP_week7_Ian_Muigai.ipynb\" target=\"_parent\"><img src=\"https://colab.research.google.com/assets/colab-badge.svg\" alt=\"Open In Colab\"/></a>"
      ]
    },
    {
      "cell_type": "markdown",
      "metadata": {
        "id": "h9XlP-SnjnRR"
      },
      "source": [
        "## Specifying the question"
      ]
    },
    {
      "cell_type": "markdown",
      "metadata": {
        "id": "nPFwIP12jtP5"
      },
      "source": [
        "Create a model that would allow the company to accurately predict the sale of prices upon being provided with the predictor variables. "
      ]
    },
    {
      "cell_type": "markdown",
      "metadata": {
        "id": "3FqI0F9gkdGl"
      },
      "source": [
        "### Metrics of success"
      ]
    },
    {
      "cell_type": "markdown",
      "metadata": {
        "id": "gXn01VZDkknS"
      },
      "source": [
        "> The model will be a success if itaccurately predicts the prices of the houses."
      ]
    },
    {
      "cell_type": "markdown",
      "metadata": {
        "id": "A46t2WAxkNEt"
      },
      "source": [
        "### Understanding the content"
      ]
    },
    {
      "cell_type": "markdown",
      "metadata": {
        "id": "d945pL2DkQ3g"
      },
      "source": [
        "Hass Consulting Company which is a real estate leader with over 25 years of experience. wants a study on the factors that affect housing prices using the given information on real estate properties that was collected over the past few months."
      ]
    },
    {
      "cell_type": "markdown",
      "metadata": {
        "id": "757acx4h8w65"
      },
      "source": [
        "## Exploring the data"
      ]
    },
    {
      "cell_type": "markdown",
      "metadata": {
        "id": "bNN3dKFtzmTC"
      },
      "source": [
        "### Importing the dataset and libraries"
      ]
    },
    {
      "cell_type": "code",
      "metadata": {
        "id": "vQ2PctUG1eYA"
      },
      "source": [
        "import pandas as pd\n",
        "import numpy as np\n",
        "import seaborn as sns\n",
        "import matplotlib.pyplot as plt\n"
      ],
      "execution_count": 1,
      "outputs": []
    },
    {
      "cell_type": "code",
      "metadata": {
        "id": "3YdXhyqV2GoQ"
      },
      "source": [
        "houses = pd.read_csv('https://raw.githubusercontent.com/draglar/house-prices/main/Independent%20Project%20Week%207%20-%20house_data.csv')"
      ],
      "execution_count": 2,
      "outputs": []
    },
    {
      "cell_type": "markdown",
      "metadata": {
        "id": "Ifwv8GxlzdIe"
      },
      "source": [
        "### Previewing The dataset"
      ]
    },
    {
      "cell_type": "code",
      "metadata": {
        "colab": {
          "base_uri": "https://localhost:8080/"
        },
        "id": "vppFFDUv0Yop",
        "outputId": "dca652d6-67ef-4b1b-bd5c-5e551babe60d"
      },
      "source": [
        "houses.shape"
      ],
      "execution_count": null,
      "outputs": [
        {
          "output_type": "execute_result",
          "data": {
            "text/plain": [
              "(21610, 19)"
            ]
          },
          "metadata": {
            "tags": []
          },
          "execution_count": 33
        }
      ]
    },
    {
      "cell_type": "code",
      "metadata": {
        "colab": {
          "base_uri": "https://localhost:8080/",
          "height": 222
        },
        "id": "JzW4k34c2Qw8",
        "outputId": "a6e27f7f-5599-4aca-fef7-68ce1d8ceda3"
      },
      "source": [
        "houses.head()"
      ],
      "execution_count": null,
      "outputs": [
        {
          "output_type": "execute_result",
          "data": {
            "text/html": [
              "<div>\n",
              "<style scoped>\n",
              "    .dataframe tbody tr th:only-of-type {\n",
              "        vertical-align: middle;\n",
              "    }\n",
              "\n",
              "    .dataframe tbody tr th {\n",
              "        vertical-align: top;\n",
              "    }\n",
              "\n",
              "    .dataframe thead th {\n",
              "        text-align: right;\n",
              "    }\n",
              "</style>\n",
              "<table border=\"1\" class=\"dataframe\">\n",
              "  <thead>\n",
              "    <tr style=\"text-align: right;\">\n",
              "      <th></th>\n",
              "      <th>id</th>\n",
              "      <th>price</th>\n",
              "      <th>bedrooms</th>\n",
              "      <th>bathrooms</th>\n",
              "      <th>sqft_living</th>\n",
              "      <th>sqft_lot</th>\n",
              "      <th>floors</th>\n",
              "      <th>waterfront</th>\n",
              "      <th>view</th>\n",
              "      <th>condition</th>\n",
              "      <th>grade</th>\n",
              "      <th>sqft_above</th>\n",
              "      <th>sqft_basement</th>\n",
              "      <th>yr_built</th>\n",
              "      <th>yr_renovated</th>\n",
              "      <th>zipcode</th>\n",
              "      <th>lat</th>\n",
              "      <th>long</th>\n",
              "      <th>sqft_living15</th>\n",
              "      <th>sqft_lot15</th>\n",
              "    </tr>\n",
              "  </thead>\n",
              "  <tbody>\n",
              "    <tr>\n",
              "      <th>0</th>\n",
              "      <td>7129300520</td>\n",
              "      <td>221900.0</td>\n",
              "      <td>3</td>\n",
              "      <td>1.00</td>\n",
              "      <td>1180</td>\n",
              "      <td>5650</td>\n",
              "      <td>1.0</td>\n",
              "      <td>0</td>\n",
              "      <td>0</td>\n",
              "      <td>3</td>\n",
              "      <td>7</td>\n",
              "      <td>1180</td>\n",
              "      <td>0</td>\n",
              "      <td>1955</td>\n",
              "      <td>0</td>\n",
              "      <td>98178</td>\n",
              "      <td>47.5112</td>\n",
              "      <td>-122.257</td>\n",
              "      <td>1340</td>\n",
              "      <td>5650</td>\n",
              "    </tr>\n",
              "    <tr>\n",
              "      <th>1</th>\n",
              "      <td>6414100192</td>\n",
              "      <td>538000.0</td>\n",
              "      <td>3</td>\n",
              "      <td>2.25</td>\n",
              "      <td>2570</td>\n",
              "      <td>7242</td>\n",
              "      <td>2.0</td>\n",
              "      <td>0</td>\n",
              "      <td>0</td>\n",
              "      <td>3</td>\n",
              "      <td>7</td>\n",
              "      <td>2170</td>\n",
              "      <td>400</td>\n",
              "      <td>1951</td>\n",
              "      <td>1991</td>\n",
              "      <td>98125</td>\n",
              "      <td>47.7210</td>\n",
              "      <td>-122.319</td>\n",
              "      <td>1690</td>\n",
              "      <td>7639</td>\n",
              "    </tr>\n",
              "    <tr>\n",
              "      <th>2</th>\n",
              "      <td>5631500400</td>\n",
              "      <td>180000.0</td>\n",
              "      <td>2</td>\n",
              "      <td>1.00</td>\n",
              "      <td>770</td>\n",
              "      <td>10000</td>\n",
              "      <td>1.0</td>\n",
              "      <td>0</td>\n",
              "      <td>0</td>\n",
              "      <td>3</td>\n",
              "      <td>6</td>\n",
              "      <td>770</td>\n",
              "      <td>0</td>\n",
              "      <td>1933</td>\n",
              "      <td>0</td>\n",
              "      <td>98028</td>\n",
              "      <td>47.7379</td>\n",
              "      <td>-122.233</td>\n",
              "      <td>2720</td>\n",
              "      <td>8062</td>\n",
              "    </tr>\n",
              "    <tr>\n",
              "      <th>3</th>\n",
              "      <td>2487200875</td>\n",
              "      <td>604000.0</td>\n",
              "      <td>4</td>\n",
              "      <td>3.00</td>\n",
              "      <td>1960</td>\n",
              "      <td>5000</td>\n",
              "      <td>1.0</td>\n",
              "      <td>0</td>\n",
              "      <td>0</td>\n",
              "      <td>5</td>\n",
              "      <td>7</td>\n",
              "      <td>1050</td>\n",
              "      <td>910</td>\n",
              "      <td>1965</td>\n",
              "      <td>0</td>\n",
              "      <td>98136</td>\n",
              "      <td>47.5208</td>\n",
              "      <td>-122.393</td>\n",
              "      <td>1360</td>\n",
              "      <td>5000</td>\n",
              "    </tr>\n",
              "    <tr>\n",
              "      <th>4</th>\n",
              "      <td>1954400510</td>\n",
              "      <td>510000.0</td>\n",
              "      <td>3</td>\n",
              "      <td>2.00</td>\n",
              "      <td>1680</td>\n",
              "      <td>8080</td>\n",
              "      <td>1.0</td>\n",
              "      <td>0</td>\n",
              "      <td>0</td>\n",
              "      <td>3</td>\n",
              "      <td>8</td>\n",
              "      <td>1680</td>\n",
              "      <td>0</td>\n",
              "      <td>1987</td>\n",
              "      <td>0</td>\n",
              "      <td>98074</td>\n",
              "      <td>47.6168</td>\n",
              "      <td>-122.045</td>\n",
              "      <td>1800</td>\n",
              "      <td>7503</td>\n",
              "    </tr>\n",
              "  </tbody>\n",
              "</table>\n",
              "</div>"
            ],
            "text/plain": [
              "           id     price  bedrooms  ...     long  sqft_living15  sqft_lot15\n",
              "0  7129300520  221900.0         3  ... -122.257           1340        5650\n",
              "1  6414100192  538000.0         3  ... -122.319           1690        7639\n",
              "2  5631500400  180000.0         2  ... -122.233           2720        8062\n",
              "3  2487200875  604000.0         4  ... -122.393           1360        5000\n",
              "4  1954400510  510000.0         3  ... -122.045           1800        7503\n",
              "\n",
              "[5 rows x 20 columns]"
            ]
          },
          "metadata": {
            "tags": []
          },
          "execution_count": 3
        }
      ]
    },
    {
      "cell_type": "code",
      "metadata": {
        "colab": {
          "base_uri": "https://localhost:8080/",
          "height": 222
        },
        "id": "kd1rxdOy2cE9",
        "outputId": "484726c1-5c03-4d17-ecd8-8fbeb21c615d"
      },
      "source": [
        "houses.tail()"
      ],
      "execution_count": null,
      "outputs": [
        {
          "output_type": "execute_result",
          "data": {
            "text/html": [
              "<div>\n",
              "<style scoped>\n",
              "    .dataframe tbody tr th:only-of-type {\n",
              "        vertical-align: middle;\n",
              "    }\n",
              "\n",
              "    .dataframe tbody tr th {\n",
              "        vertical-align: top;\n",
              "    }\n",
              "\n",
              "    .dataframe thead th {\n",
              "        text-align: right;\n",
              "    }\n",
              "</style>\n",
              "<table border=\"1\" class=\"dataframe\">\n",
              "  <thead>\n",
              "    <tr style=\"text-align: right;\">\n",
              "      <th></th>\n",
              "      <th>id</th>\n",
              "      <th>price</th>\n",
              "      <th>bedrooms</th>\n",
              "      <th>bathrooms</th>\n",
              "      <th>sqft_living</th>\n",
              "      <th>sqft_lot</th>\n",
              "      <th>floors</th>\n",
              "      <th>waterfront</th>\n",
              "      <th>view</th>\n",
              "      <th>condition</th>\n",
              "      <th>grade</th>\n",
              "      <th>sqft_above</th>\n",
              "      <th>sqft_basement</th>\n",
              "      <th>yr_built</th>\n",
              "      <th>yr_renovated</th>\n",
              "      <th>zipcode</th>\n",
              "      <th>lat</th>\n",
              "      <th>long</th>\n",
              "      <th>sqft_living15</th>\n",
              "      <th>sqft_lot15</th>\n",
              "    </tr>\n",
              "  </thead>\n",
              "  <tbody>\n",
              "    <tr>\n",
              "      <th>21608</th>\n",
              "      <td>263000018</td>\n",
              "      <td>360000.0</td>\n",
              "      <td>3</td>\n",
              "      <td>2.50</td>\n",
              "      <td>1530</td>\n",
              "      <td>1131</td>\n",
              "      <td>3.0</td>\n",
              "      <td>0</td>\n",
              "      <td>0</td>\n",
              "      <td>3</td>\n",
              "      <td>8</td>\n",
              "      <td>1530</td>\n",
              "      <td>0</td>\n",
              "      <td>2009</td>\n",
              "      <td>0</td>\n",
              "      <td>98103</td>\n",
              "      <td>47.6993</td>\n",
              "      <td>-122.346</td>\n",
              "      <td>1530</td>\n",
              "      <td>1509</td>\n",
              "    </tr>\n",
              "    <tr>\n",
              "      <th>21609</th>\n",
              "      <td>6600060120</td>\n",
              "      <td>400000.0</td>\n",
              "      <td>4</td>\n",
              "      <td>2.50</td>\n",
              "      <td>2310</td>\n",
              "      <td>5813</td>\n",
              "      <td>2.0</td>\n",
              "      <td>0</td>\n",
              "      <td>0</td>\n",
              "      <td>3</td>\n",
              "      <td>8</td>\n",
              "      <td>2310</td>\n",
              "      <td>0</td>\n",
              "      <td>2014</td>\n",
              "      <td>0</td>\n",
              "      <td>98146</td>\n",
              "      <td>47.5107</td>\n",
              "      <td>-122.362</td>\n",
              "      <td>1830</td>\n",
              "      <td>7200</td>\n",
              "    </tr>\n",
              "    <tr>\n",
              "      <th>21610</th>\n",
              "      <td>1523300141</td>\n",
              "      <td>402101.0</td>\n",
              "      <td>2</td>\n",
              "      <td>0.75</td>\n",
              "      <td>1020</td>\n",
              "      <td>1350</td>\n",
              "      <td>2.0</td>\n",
              "      <td>0</td>\n",
              "      <td>0</td>\n",
              "      <td>3</td>\n",
              "      <td>7</td>\n",
              "      <td>1020</td>\n",
              "      <td>0</td>\n",
              "      <td>2009</td>\n",
              "      <td>0</td>\n",
              "      <td>98144</td>\n",
              "      <td>47.5944</td>\n",
              "      <td>-122.299</td>\n",
              "      <td>1020</td>\n",
              "      <td>2007</td>\n",
              "    </tr>\n",
              "    <tr>\n",
              "      <th>21611</th>\n",
              "      <td>291310100</td>\n",
              "      <td>400000.0</td>\n",
              "      <td>3</td>\n",
              "      <td>2.50</td>\n",
              "      <td>1600</td>\n",
              "      <td>2388</td>\n",
              "      <td>2.0</td>\n",
              "      <td>0</td>\n",
              "      <td>0</td>\n",
              "      <td>3</td>\n",
              "      <td>8</td>\n",
              "      <td>1600</td>\n",
              "      <td>0</td>\n",
              "      <td>2004</td>\n",
              "      <td>0</td>\n",
              "      <td>98027</td>\n",
              "      <td>47.5345</td>\n",
              "      <td>-122.069</td>\n",
              "      <td>1410</td>\n",
              "      <td>1287</td>\n",
              "    </tr>\n",
              "    <tr>\n",
              "      <th>21612</th>\n",
              "      <td>1523300157</td>\n",
              "      <td>325000.0</td>\n",
              "      <td>2</td>\n",
              "      <td>0.75</td>\n",
              "      <td>1020</td>\n",
              "      <td>1076</td>\n",
              "      <td>2.0</td>\n",
              "      <td>0</td>\n",
              "      <td>0</td>\n",
              "      <td>3</td>\n",
              "      <td>7</td>\n",
              "      <td>1020</td>\n",
              "      <td>0</td>\n",
              "      <td>2008</td>\n",
              "      <td>0</td>\n",
              "      <td>98144</td>\n",
              "      <td>47.5941</td>\n",
              "      <td>-122.299</td>\n",
              "      <td>1020</td>\n",
              "      <td>1357</td>\n",
              "    </tr>\n",
              "  </tbody>\n",
              "</table>\n",
              "</div>"
            ],
            "text/plain": [
              "               id     price  bedrooms  ...     long  sqft_living15  sqft_lot15\n",
              "21608   263000018  360000.0         3  ... -122.346           1530        1509\n",
              "21609  6600060120  400000.0         4  ... -122.362           1830        7200\n",
              "21610  1523300141  402101.0         2  ... -122.299           1020        2007\n",
              "21611   291310100  400000.0         3  ... -122.069           1410        1287\n",
              "21612  1523300157  325000.0         2  ... -122.299           1020        1357\n",
              "\n",
              "[5 rows x 20 columns]"
            ]
          },
          "metadata": {
            "tags": []
          },
          "execution_count": 4
        }
      ]
    },
    {
      "cell_type": "markdown",
      "metadata": {
        "id": "4iPOyAST2MGe"
      },
      "source": [
        "### Cleaning the dataset"
      ]
    },
    {
      "cell_type": "markdown",
      "metadata": {
        "id": "-YKgnJAd2PsU"
      },
      "source": [
        "#### Checking for null values"
      ]
    },
    {
      "cell_type": "code",
      "metadata": {
        "colab": {
          "base_uri": "https://localhost:8080/"
        },
        "id": "P-qZ05w22d23",
        "outputId": "00e20cfb-c24b-45aa-85ba-b166684e8ef5"
      },
      "source": [
        "houses.isna().sum()"
      ],
      "execution_count": 3,
      "outputs": [
        {
          "output_type": "execute_result",
          "data": {
            "text/plain": [
              "id               0\n",
              "price            0\n",
              "bedrooms         0\n",
              "bathrooms        0\n",
              "sqft_living      0\n",
              "sqft_lot         0\n",
              "floors           0\n",
              "waterfront       0\n",
              "view             0\n",
              "condition        0\n",
              "grade            0\n",
              "sqft_above       0\n",
              "sqft_basement    0\n",
              "yr_built         0\n",
              "yr_renovated     0\n",
              "zipcode          0\n",
              "lat              0\n",
              "long             0\n",
              "sqft_living15    0\n",
              "sqft_lot15       0\n",
              "dtype: int64"
            ]
          },
          "metadata": {
            "tags": []
          },
          "execution_count": 3
        }
      ]
    },
    {
      "cell_type": "markdown",
      "metadata": {
        "id": "uT_B6dCK2U4k"
      },
      "source": [
        "#### Cheking duplicated values"
      ]
    },
    {
      "cell_type": "code",
      "metadata": {
        "colab": {
          "base_uri": "https://localhost:8080/"
        },
        "id": "vIVsAlc12hdm",
        "outputId": "6e95d896-7833-4a7a-8e4b-ea866068e1bd"
      },
      "source": [
        "houses.duplicated().sum()"
      ],
      "execution_count": 4,
      "outputs": [
        {
          "output_type": "execute_result",
          "data": {
            "text/plain": [
              "3"
            ]
          },
          "metadata": {
            "tags": []
          },
          "execution_count": 4
        }
      ]
    },
    {
      "cell_type": "code",
      "metadata": {
        "id": "wG7tUQzc2lyg"
      },
      "source": [
        "houses.drop_duplicates(inplace=True)"
      ],
      "execution_count": 5,
      "outputs": []
    },
    {
      "cell_type": "markdown",
      "metadata": {
        "id": "5BYN9XU-2ZPT"
      },
      "source": [
        "> I droped the 3 duplicate values"
      ]
    },
    {
      "cell_type": "code",
      "metadata": {
        "colab": {
          "base_uri": "https://localhost:8080/"
        },
        "id": "rw7vTl7g6HIW",
        "outputId": "b53ead45-14c0-4def-c073-0c00274ac9ff"
      },
      "source": [
        "houses.info()"
      ],
      "execution_count": 6,
      "outputs": [
        {
          "output_type": "stream",
          "text": [
            "<class 'pandas.core.frame.DataFrame'>\n",
            "Int64Index: 21610 entries, 0 to 21612\n",
            "Data columns (total 20 columns):\n",
            " #   Column         Non-Null Count  Dtype  \n",
            "---  ------         --------------  -----  \n",
            " 0   id             21610 non-null  int64  \n",
            " 1   price          21610 non-null  float64\n",
            " 2   bedrooms       21610 non-null  int64  \n",
            " 3   bathrooms      21610 non-null  float64\n",
            " 4   sqft_living    21610 non-null  int64  \n",
            " 5   sqft_lot       21610 non-null  int64  \n",
            " 6   floors         21610 non-null  float64\n",
            " 7   waterfront     21610 non-null  int64  \n",
            " 8   view           21610 non-null  int64  \n",
            " 9   condition      21610 non-null  int64  \n",
            " 10  grade          21610 non-null  int64  \n",
            " 11  sqft_above     21610 non-null  int64  \n",
            " 12  sqft_basement  21610 non-null  int64  \n",
            " 13  yr_built       21610 non-null  int64  \n",
            " 14  yr_renovated   21610 non-null  int64  \n",
            " 15  zipcode        21610 non-null  int64  \n",
            " 16  lat            21610 non-null  float64\n",
            " 17  long           21610 non-null  float64\n",
            " 18  sqft_living15  21610 non-null  int64  \n",
            " 19  sqft_lot15     21610 non-null  int64  \n",
            "dtypes: float64(5), int64(15)\n",
            "memory usage: 3.5 MB\n"
          ],
          "name": "stdout"
        }
      ]
    },
    {
      "cell_type": "markdown",
      "metadata": {
        "id": "94gvjeI52gMx"
      },
      "source": [
        "#### Altering columns"
      ]
    },
    {
      "cell_type": "markdown",
      "metadata": {
        "id": "dJFUEdA826hP"
      },
      "source": [
        "> Renaming the floors column to integer"
      ]
    },
    {
      "cell_type": "code",
      "metadata": {
        "id": "ZkR7JU7Z8Prn"
      },
      "source": [
        "houses.floors=houses.floors.astype('int')"
      ],
      "execution_count": 7,
      "outputs": []
    },
    {
      "cell_type": "markdown",
      "metadata": {
        "id": "JuMXD_E62_9i"
      },
      "source": [
        "> droping the id column"
      ]
    },
    {
      "cell_type": "code",
      "metadata": {
        "id": "mghzWcdrS5Rv"
      },
      "source": [
        "houses.drop('id',axis=1,inplace=True)"
      ],
      "execution_count": 8,
      "outputs": []
    },
    {
      "cell_type": "markdown",
      "metadata": {
        "id": "8xK6hUaN3DxI"
      },
      "source": [
        "#### Checking for outliers"
      ]
    },
    {
      "cell_type": "code",
      "metadata": {
        "colab": {
          "base_uri": "https://localhost:8080/",
          "height": 0
        },
        "id": "k4F3yQS1PdIC",
        "outputId": "d9096562-2394-4612-e2f5-81bfff5ab799"
      },
      "source": [
        "lst=list(houses.columns)\n",
        "for name in lst:\n",
        "  plt.title(f'boxplot of {name} ')\n",
        "  sns.boxplot(houses[name])\n",
        "  plt.show()\n"
      ],
      "execution_count": 9,
      "outputs": [
        {
          "output_type": "stream",
          "text": [
            "/usr/local/lib/python3.6/dist-packages/seaborn/_decorators.py:43: FutureWarning: Pass the following variable as a keyword arg: x. From version 0.12, the only valid positional argument will be `data`, and passing other arguments without an explicit keyword will result in an error or misinterpretation.\n",
            "  FutureWarning\n"
          ],
          "name": "stderr"
        },
        {
          "output_type": "display_data",
          "data": {
            "image/png": "[encoded data removed]",
            "text/plain": [
              "<Figure size 432x288 with 1 Axes>"
            ]
          },
          "metadata": {
            "tags": [],
            "needs_background": "light"
          }
        },
        {
          "output_type": "stream",
          "text": [
            "/usr/local/lib/python3.6/dist-packages/seaborn/_decorators.py:43: FutureWarning: Pass the following variable as a keyword arg: x. From version 0.12, the only valid positional argument will be `data`, and passing other arguments without an explicit keyword will result in an error or misinterpretation.\n",
            "  FutureWarning\n"
          ],
          "name": "stderr"
        },
        {
          "output_type": "display_data",
          "data": {
            "image/png": "[encoded data removed]",
            "text/plain": [
              "<Figure size 432x288 with 1 Axes>"
            ]
          },
          "metadata": {
            "tags": [],
            "needs_background": "light"
          }
        },
        {
          "output_type": "stream",
          "text": [
            "/usr/local/lib/python3.6/dist-packages/seaborn/_decorators.py:43: FutureWarning: Pass the following variable as a keyword arg: x. From version 0.12, the only valid positional argument will be `data`, and passing other arguments without an explicit keyword will result in an error or misinterpretation.\n",
            "  FutureWarning\n"
          ],
          "name": "stderr"
        },
        {
          "output_type": "display_data",
          "data": {
            "image/png": "[encoded data removed]",
            "text/plain": [
              "<Figure size 432x288 with 1 Axes>"
            ]
          },
          "metadata": {
            "tags": [],
            "needs_background": "light"
          }
        },
        {
          "output_type": "stream",
          "text": [
            "/usr/local/lib/python3.6/dist-packages/seaborn/_decorators.py:43: FutureWarning: Pass the following variable as a keyword arg: x. From version 0.12, the only valid positional argument will be `data`, and passing other arguments without an explicit keyword will result in an error or misinterpretation.\n",
            "  FutureWarning\n"
          ],
          "name": "stderr"
        },
        {
          "output_type": "display_data",
          "data": {
            "image/png": "[encoded data removed]",
            "text/plain": [
              "<Figure size 432x288 with 1 Axes>"
            ]
          },
          "metadata": {
            "tags": [],
            "needs_background": "light"
          }
        },
        {
          "output_type": "stream",
          "text": [
            "/usr/local/lib/python3.6/dist-packages/seaborn/_decorators.py:43: FutureWarning: Pass the following variable as a keyword arg: x. From version 0.12, the only valid positional argument will be `data`, and passing other arguments without an explicit keyword will result in an error or misinterpretation.\n",
            "  FutureWarning\n"
          ],
          "name": "stderr"
        },
        {
          "output_type": "display_data",
          "data": {
            "image/png": "[encoded data removed]",
            "text/plain": [
              "<Figure size 432x288 with 1 Axes>"
            ]
          },
          "metadata": {
            "tags": [],
            "needs_background": "light"
          }
        },
        {
          "output_type": "stream",
          "text": [
            "/usr/local/lib/python3.6/dist-packages/seaborn/_decorators.py:43: FutureWarning: Pass the following variable as a keyword arg: x. From version 0.12, the only valid positional argument will be `data`, and passing other arguments without an explicit keyword will result in an error or misinterpretation.\n",
            "  FutureWarning\n"
          ],
          "name": "stderr"
        },
        {
          "output_type": "display_data",
          "data": {
            "image/png": "[encoded data removed]",
            "text/plain": [
              "<Figure size 432x288 with 1 Axes>"
            ]
          },
          "metadata": {
            "tags": [],
            "needs_background": "light"
          }
        },
        {
          "output_type": "stream",
          "text": [
            "/usr/local/lib/python3.6/dist-packages/seaborn/_decorators.py:43: FutureWarning: Pass the following variable as a keyword arg: x. From version 0.12, the only valid positional argument will be `data`, and passing other arguments without an explicit keyword will result in an error or misinterpretation.\n",
            "  FutureWarning\n"
          ],
          "name": "stderr"
        },
        {
          "output_type": "display_data",
          "data": {
            "image/png": "[encoded data removed]",
            "text/plain": [
              "<Figure size 432x288 with 1 Axes>"
            ]
          },
          "metadata": {
            "tags": [],
            "needs_background": "light"
          }
        },
        {
          "output_type": "stream",
          "text": [
            "/usr/local/lib/python3.6/dist-packages/seaborn/_decorators.py:43: FutureWarning: Pass the following variable as a keyword arg: x. From version 0.12, the only valid positional argument will be `data`, and passing other arguments without an explicit keyword will result in an error or misinterpretation.\n",
            "  FutureWarning\n"
          ],
          "name": "stderr"
        },
        {
          "output_type": "display_data",
          "data": {
            "image/png": "[encoded data removed]",
            "text/plain": [
              "<Figure size 432x288 with 1 Axes>"
            ]
          },
          "metadata": {
            "tags": [],
            "needs_background": "light"
          }
        },
        {
          "output_type": "stream",
          "text": [
            "/usr/local/lib/python3.6/dist-packages/seaborn/_decorators.py:43: FutureWarning: Pass the following variable as a keyword arg: x. From version 0.12, the only valid positional argument will be `data`, and passing other arguments without an explicit keyword will result in an error or misinterpretation.\n",
            "  FutureWarning\n"
          ],
          "name": "stderr"
        },
        {
          "output_type": "display_data",
          "data": {
            "image/png": "[encoded data removed]",
            "text/plain": [
              "<Figure size 432x288 with 1 Axes>"
            ]
          },
          "metadata": {
            "tags": [],
            "needs_background": "light"
          }
        },
        {
          "output_type": "stream",
          "text": [
            "/usr/local/lib/python3.6/dist-packages/seaborn/_decorators.py:43: FutureWarning: Pass the following variable as a keyword arg: x. From version 0.12, the only valid positional argument will be `data`, and passing other arguments without an explicit keyword will result in an error or misinterpretation.\n",
            "  FutureWarning\n"
          ],
          "name": "stderr"
        },
        {
          "output_type": "display_data",
          "data": {
            "image/png": "[encoded data removed]",
            "text/plain": [
              "<Figure size 432x288 with 1 Axes>"
            ]
          },
          "metadata": {
            "tags": [],
            "needs_background": "light"
          }
        },
        {
          "output_type": "stream",
          "text": [
            "/usr/local/lib/python3.6/dist-packages/seaborn/_decorators.py:43: FutureWarning: Pass the following variable as a keyword arg: x. From version 0.12, the only valid positional argument will be `data`, and passing other arguments without an explicit keyword will result in an error or misinterpretation.\n",
            "  FutureWarning\n"
          ],
          "name": "stderr"
        },
        {
          "output_type": "display_data",
          "data": {
            "image/png": "[encoded data removed]",
            "text/plain": [
              "<Figure size 432x288 with 1 Axes>"
            ]
          },
          "metadata": {
            "tags": [],
            "needs_background": "light"
          }
        },
        {
          "output_type": "stream",
          "text": [
            "/usr/local/lib/python3.6/dist-packages/seaborn/_decorators.py:43: FutureWarning: Pass the following variable as a keyword arg: x. From version 0.12, the only valid positional argument will be `data`, and passing other arguments without an explicit keyword will result in an error or misinterpretation.\n",
            "  FutureWarning\n"
          ],
          "name": "stderr"
        },
        {
          "output_type": "display_data",
          "data": {
            "image/png": "[encoded data removed]",
            "text/plain": [
              "<Figure size 432x288 with 1 Axes>"
            ]
          },
          "metadata": {
            "tags": [],
            "needs_background": "light"
          }
        },
        {
          "output_type": "stream",
          "text": [
            "/usr/local/lib/python3.6/dist-packages/seaborn/_decorators.py:43: FutureWarning: Pass the following variable as a keyword arg: x. From version 0.12, the only valid positional argument will be `data`, and passing other arguments without an explicit keyword will result in an error or misinterpretation.\n",
            "  FutureWarning\n"
          ],
          "name": "stderr"
        },
        {
          "output_type": "display_data",
          "data": {
            "image/png": "[encoded data removed]",
            "text/plain": [
              "<Figure size 432x288 with 1 Axes>"
            ]
          },
          "metadata": {
            "tags": [],
            "needs_background": "light"
          }
        },
        {
          "output_type": "stream",
          "text": [
            "/usr/local/lib/python3.6/dist-packages/seaborn/_decorators.py:43: FutureWarning: Pass the following variable as a keyword arg: x. From version 0.12, the only valid positional argument will be `data`, and passing other arguments without an explicit keyword will result in an error or misinterpretation.\n",
            "  FutureWarning\n"
          ],
          "name": "stderr"
        },
        {
          "output_type": "display_data",
          "data": {
            "image/png": "[encoded data removed]",
            "text/plain": [
              "<Figure size 432x288 with 1 Axes>"
            ]
          },
          "metadata": {
            "tags": [],
            "needs_background": "light"
          }
        },
        {
          "output_type": "stream",
          "text": [
            "/usr/local/lib/python3.6/dist-packages/seaborn/_decorators.py:43: FutureWarning: Pass the following variable as a keyword arg: x. From version 0.12, the only valid positional argument will be `data`, and passing other arguments without an explicit keyword will result in an error or misinterpretation.\n",
            "  FutureWarning\n"
          ],
          "name": "stderr"
        },
        {
          "output_type": "display_data",
          "data": {
            "image/png": "[encoded data removed]",
            "text/plain": [
              "<Figure size 432x288 with 1 Axes>"
            ]
          },
          "metadata": {
            "tags": [],
            "needs_background": "light"
          }
        },
        {
          "output_type": "stream",
          "text": [
            "/usr/local/lib/python3.6/dist-packages/seaborn/_decorators.py:43: FutureWarning: Pass the following variable as a keyword arg: x. From version 0.12, the only valid positional argument will be `data`, and passing other arguments without an explicit keyword will result in an error or misinterpretation.\n",
            "  FutureWarning\n"
          ],
          "name": "stderr"
        },
        {
          "output_type": "display_data",
          "data": {
            "image/png": "[encoded data removed]",
            "text/plain": [
              "<Figure size 432x288 with 1 Axes>"
            ]
          },
          "metadata": {
            "tags": [],
            "needs_background": "light"
          }
        },
        {
          "output_type": "stream",
          "text": [
            "/usr/local/lib/python3.6/dist-packages/seaborn/_decorators.py:43: FutureWarning: Pass the following variable as a keyword arg: x. From version 0.12, the only valid positional argument will be `data`, and passing other arguments without an explicit keyword will result in an error or misinterpretation.\n",
            "  FutureWarning\n"
          ],
          "name": "stderr"
        },
        {
          "output_type": "display_data",
          "data": {
            "image/png": "[encoded data removed]",
            "text/plain": [
              "<Figure size 432x288 with 1 Axes>"
            ]
          },
          "metadata": {
            "tags": [],
            "needs_background": "light"
          }
        },
        {
          "output_type": "stream",
          "text": [
            "/usr/local/lib/python3.6/dist-packages/seaborn/_decorators.py:43: FutureWarning: Pass the following variable as a keyword arg: x. From version 0.12, the only valid positional argument will be `data`, and passing other arguments without an explicit keyword will result in an error or misinterpretation.\n",
            "  FutureWarning\n"
          ],
          "name": "stderr"
        },
        {
          "output_type": "display_data",
          "data": {
            "image/png": "[encoded data removed]",
            "text/plain": [
              "<Figure size 432x288 with 1 Axes>"
            ]
          },
          "metadata": {
            "tags": [],
            "needs_background": "light"
          }
        },
        {
          "output_type": "stream",
          "text": [
            "/usr/local/lib/python3.6/dist-packages/seaborn/_decorators.py:43: FutureWarning: Pass the following variable as a keyword arg: x. From version 0.12, the only valid positional argument will be `data`, and passing other arguments without an explicit keyword will result in an error or misinterpretation.\n",
            "  FutureWarning\n"
          ],
          "name": "stderr"
        },
        {
          "output_type": "display_data",
          "data": {
            "image/png": "[encoded data removed]",
            "text/plain": [
              "<Figure size 432x288 with 1 Axes>"
            ]
          },
          "metadata": {
            "tags": [],
            "needs_background": "light"
          }
        }
      ]
    },
    {
      "cell_type": "code",
      "metadata": {
        "id": "-jpNACa826F1"
      },
      "source": [
        "def outs(x):\n",
        "  global houses,a\n",
        "\n",
        "  p1,p3=np.percentile(a[x],[25,75])\n",
        "  iqr=p3-p1\n",
        "  l_bound=p1-(1.5*iqr)\n",
        "  u_bound=p3+(1.5*iqr)\n",
        "  a=a[~((a[x]<l_bound)|(a[x]>u_bound))]"
      ],
      "execution_count": 10,
      "outputs": []
    },
    {
      "cell_type": "code",
      "metadata": {
        "colab": {
          "base_uri": "https://localhost:8080/"
        },
        "id": "732RSyrO43Q6",
        "outputId": "941e2724-db1a-4f78-d3b6-ce9ba0be1704"
      },
      "source": [
        "a=houses.copy()\n",
        "for name in lst:\n",
        "  outs(name)\n",
        "a.shape"
      ],
      "execution_count": 11,
      "outputs": [
        {
          "output_type": "execute_result",
          "data": {
            "text/plain": [
              "(13859, 19)"
            ]
          },
          "metadata": {
            "tags": []
          },
          "execution_count": 11
        }
      ]
    },
    {
      "cell_type": "code",
      "metadata": {
        "colab": {
          "base_uri": "https://localhost:8080/"
        },
        "id": "ifAXQxvC566a",
        "outputId": "b5b5a857-1624-47cd-fe9e-ec94148dc548"
      },
      "source": [
        "houses.shape"
      ],
      "execution_count": 12,
      "outputs": [
        {
          "output_type": "execute_result",
          "data": {
            "text/plain": [
              "(21610, 19)"
            ]
          },
          "metadata": {
            "tags": []
          },
          "execution_count": 12
        }
      ]
    },
    {
      "cell_type": "markdown",
      "metadata": {
        "id": "-P4W4REw6Ddc"
      },
      "source": [
        "> too many outliers ( 13857 ) to be dropped from the dataset ( 21613 )"
      ]
    },
    {
      "cell_type": "markdown",
      "metadata": {
        "id": "Kj2KWZbEFY_1"
      },
      "source": [
        "### External datasource validation"
      ]
    },
    {
      "cell_type": "markdown",
      "metadata": {
        "id": "VhSgQ-R68YiY"
      },
      "source": [
        "## EDA"
      ]
    },
    {
      "cell_type": "markdown",
      "metadata": {
        "id": "PNi3fywNFsGS"
      },
      "source": [
        "> The descriptions for the dataset are located in https://rstudio-pubs-static.s3.amazonaws.com/155304_cc51f448116744069664b35e7762999f.html"
      ]
    },
    {
      "cell_type": "markdown",
      "metadata": {
        "id": "6OuKAuFNFzzH"
      },
      "source": [
        "id - Unique ID for each home sold\n",
        "\n",
        "date - Date of the home sale\n",
        "\n",
        "price - Price of each home sold\n",
        "\n",
        "bedrooms - Number of bedrooms\n",
        "\n",
        "bathrooms - Number of bathrooms, where .5 accounts for a room with a toilet but no shower\n",
        "\n",
        "sqft_living - Square footage of the apartments interior living space\n",
        "\n",
        "sqft_lot - Square footage of the land space\n",
        "\n",
        "floors - Number of floors\n",
        "\n",
        "waterfront - A dummy variable for whether the apartment was overlooking the waterfront or not\n",
        "\n",
        "view - An index from 0 to 4 of how good the view of the property was\n",
        "\n",
        "condition - An index from 1 to 5 on the condition of the apartment,\n",
        "\n",
        "grade - An index from 1 to 13, where 1-3 falls short of building construction and design, 7 has an average level of construction and design, and 11-13 have a high quality level of construction and design.\n",
        "\n",
        "sqft_above - The square footage of the interior housing space that is above ground level\n",
        "\n",
        "sqft_basement - The square footage of the interior housing space that is below ground level\n",
        "\n",
        "yr_built - The year the house was initially built\n",
        "\n",
        "yr_renovated - The year of the house’s last renovation\n",
        "\n",
        "zipcode - What zipcode area the house is in\n",
        "\n",
        "lat - Lattitude\n",
        "\n",
        "long - Longitude\n",
        "\n",
        "sqft_living15 - The square footage of interior housing living space for the nearest 15 neighbors\n",
        "\n",
        "sqft_lot15 - The square footage of the land lots of the nearest 15 neighbors"
      ]
    },
    {
      "cell_type": "markdown",
      "metadata": {
        "id": "HOFWVVctYFgW"
      },
      "source": [
        "### Univarriate"
      ]
    },
    {
      "cell_type": "code",
      "metadata": {
        "colab": {
          "base_uri": "https://localhost:8080/",
          "height": 430
        },
        "id": "Suj1wapCEtmq",
        "outputId": "9ad82de3-77dd-451b-ca0f-c318be017fd4"
      },
      "source": [
        "plt.subplots(figsize=(18,6))\n",
        "plt.xlim(0,3000000)\n",
        "sns.distplot(houses.price, )"
      ],
      "execution_count": null,
      "outputs": [
        {
          "output_type": "stream",
          "text": [
            "/usr/local/lib/python3.6/dist-packages/seaborn/distributions.py:2551: FutureWarning: `distplot` is a deprecated function and will be removed in a future version. Please adapt your code to use either `displot` (a figure-level function with similar flexibility) or `histplot` (an axes-level function for histograms).\n",
            "  warnings.warn(msg, FutureWarning)\n"
          ],
          "name": "stderr"
        },
        {
          "output_type": "execute_result",
          "data": {
            "text/plain": [
              "<matplotlib.axes._subplots.AxesSubplot at 0x7ff33e0aec18>"
            ]
          },
          "metadata": {
            "tags": []
          },
          "execution_count": 21
        },
        {
          "output_type": "display_data",
          "data": {
            "image/png": "[encoded data removed]",
            "text/plain": [
              "<Figure size 1296x432 with 1 Axes>"
            ]
          },
          "metadata": {
            "tags": [],
            "needs_background": "light"
          }
        }
      ]
    },
    {
      "cell_type": "markdown",
      "metadata": {
        "id": "cucAzq8ZcHC5"
      },
      "source": [
        "> most house prices range between 250,000 and 600,000"
      ]
    },
    {
      "cell_type": "code",
      "metadata": {
        "colab": {
          "base_uri": "https://localhost:8080/",
          "height": 420
        },
        "id": "KzxC35tRboEf",
        "outputId": "0db5b31c-cd75-4ffb-abd2-9772365c3f5f"
      },
      "source": [
        "plt.subplots(figsize=(18,6))\n",
        "sns.distplot(houses.sqft_living, )"
      ],
      "execution_count": null,
      "outputs": [
        {
          "output_type": "stream",
          "text": [
            "/usr/local/lib/python3.6/dist-packages/seaborn/distributions.py:2551: FutureWarning: `distplot` is a deprecated function and will be removed in a future version. Please adapt your code to use either `displot` (a figure-level function with similar flexibility) or `histplot` (an axes-level function for histograms).\n",
            "  warnings.warn(msg, FutureWarning)\n"
          ],
          "name": "stderr"
        },
        {
          "output_type": "execute_result",
          "data": {
            "text/plain": [
              "<matplotlib.axes._subplots.AxesSubplot at 0x7ff33e064ac8>"
            ]
          },
          "metadata": {
            "tags": []
          },
          "execution_count": 22
        },
        {
          "output_type": "display_data",
          "data": {
            "image/png": "[encoded data removed]",
            "text/plain": [
              "<Figure size 1296x432 with 1 Axes>"
            ]
          },
          "metadata": {
            "tags": [],
            "needs_background": "light"
          }
        }
      ]
    },
    {
      "cell_type": "markdown",
      "metadata": {
        "id": "2Kco642beYVf"
      },
      "source": [
        "> most living spaces range between 1000 square feet and 3000 square feet"
      ]
    },
    {
      "cell_type": "code",
      "metadata": {
        "colab": {
          "base_uri": "https://localhost:8080/",
          "height": 420
        },
        "id": "RPNv4rx3ibpI",
        "outputId": "5ecb8856-b5ee-4c3b-b66a-d75a26b90230"
      },
      "source": [
        "plt.subplots(figsize=(18,6))\n",
        "sns.distplot(houses.sqft_above)"
      ],
      "execution_count": null,
      "outputs": [
        {
          "output_type": "stream",
          "text": [
            "/usr/local/lib/python3.6/dist-packages/seaborn/distributions.py:2551: FutureWarning: `distplot` is a deprecated function and will be removed in a future version. Please adapt your code to use either `displot` (a figure-level function with similar flexibility) or `histplot` (an axes-level function for histograms).\n",
            "  warnings.warn(msg, FutureWarning)\n"
          ],
          "name": "stderr"
        },
        {
          "output_type": "execute_result",
          "data": {
            "text/plain": [
              "<matplotlib.axes._subplots.AxesSubplot at 0x7ff33d131208>"
            ]
          },
          "metadata": {
            "tags": []
          },
          "execution_count": 36
        },
        {
          "output_type": "display_data",
          "data": {
            "image/png": "[encoded data removed]",
            "text/plain": [
              "<Figure size 1296x432 with 1 Axes>"
            ]
          },
          "metadata": {
            "tags": [],
            "needs_background": "light"
          }
        }
      ]
    },
    {
      "cell_type": "markdown",
      "metadata": {
        "id": "fTXs7EmOijrH"
      },
      "source": [
        "> most living spaces above ground range between 1000 and 3000 square feet"
      ]
    },
    {
      "cell_type": "code",
      "metadata": {
        "colab": {
          "base_uri": "https://localhost:8080/",
          "height": 417
        },
        "id": "emnjAd2zelfo",
        "outputId": "42575e68-fad5-497a-be53-ded16da87ed1"
      },
      "source": [
        "plt.subplots(figsize=(18,6))\n",
        "plt.xlim(0,3000)\n",
        "sns.distplot(houses.sqft_basement)"
      ],
      "execution_count": null,
      "outputs": [
        {
          "output_type": "stream",
          "text": [
            "/usr/local/lib/python3.6/dist-packages/seaborn/distributions.py:2551: FutureWarning: `distplot` is a deprecated function and will be removed in a future version. Please adapt your code to use either `displot` (a figure-level function with similar flexibility) or `histplot` (an axes-level function for histograms).\n",
            "  warnings.warn(msg, FutureWarning)\n"
          ],
          "name": "stderr"
        },
        {
          "output_type": "execute_result",
          "data": {
            "text/plain": [
              "<matplotlib.axes._subplots.AxesSubplot at 0x7ff33ce15e10>"
            ]
          },
          "metadata": {
            "tags": []
          },
          "execution_count": 40
        },
        {
          "output_type": "display_data",
          "data": {
            "image/png": "[encoded data removed]",
            "text/plain": [
              "<Figure size 1296x432 with 1 Axes>"
            ]
          },
          "metadata": {
            "tags": [],
            "needs_background": "light"
          }
        }
      ]
    },
    {
      "cell_type": "markdown",
      "metadata": {
        "id": "EvHQqQyfiTnE"
      },
      "source": [
        "> most homes have no basement or a basement less than 200 square feet"
      ]
    },
    {
      "cell_type": "code",
      "metadata": {
        "colab": {
          "base_uri": "https://localhost:8080/",
          "height": 432
        },
        "id": "AC7Ci6wRa8xa",
        "outputId": "e2b87bee-0c26-4acf-82ba-8cc6d0c42e0f"
      },
      "source": [
        "plt.subplots(figsize=(18,6))\n",
        "plt.xlim(0,100000)\n",
        "sns.distplot(houses.sqft_lot)"
      ],
      "execution_count": null,
      "outputs": [
        {
          "output_type": "stream",
          "text": [
            "/usr/local/lib/python3.6/dist-packages/seaborn/distributions.py:2551: FutureWarning: `distplot` is a deprecated function and will be removed in a future version. Please adapt your code to use either `displot` (a figure-level function with similar flexibility) or `histplot` (an axes-level function for histograms).\n",
            "  warnings.warn(msg, FutureWarning)\n"
          ],
          "name": "stderr"
        },
        {
          "output_type": "execute_result",
          "data": {
            "text/plain": [
              "<matplotlib.axes._subplots.AxesSubplot at 0x7ff33d491da0>"
            ]
          },
          "metadata": {
            "tags": []
          },
          "execution_count": 33
        },
        {
          "output_type": "display_data",
          "data": {
            "image/png": "[encoded data removed]",
            "text/plain": [
              "<Figure size 1296x432 with 1 Axes>"
            ]
          },
          "metadata": {
            "tags": [],
            "needs_background": "light"
          }
        }
      ]
    },
    {
      "cell_type": "markdown",
      "metadata": {
        "id": "5ca5LzIafKQs"
      },
      "source": [
        "> most plot sizes range between 0 and 30000 square feet"
      ]
    },
    {
      "cell_type": "code",
      "metadata": {
        "colab": {
          "base_uri": "https://localhost:8080/",
          "height": 408
        },
        "id": "91pdvCNIWpw6",
        "outputId": "7cc71575-ce8b-4fb9-c3e7-1f8678ad2820"
      },
      "source": [
        "(houses.bedrooms.value_counts()).plot(kind='bar',rot=0,title='distribution on bedroom numbers',figsize=(15,6))"
      ],
      "execution_count": null,
      "outputs": [
        {
          "output_type": "execute_result",
          "data": {
            "text/plain": [
              "<matplotlib.axes._subplots.AxesSubplot at 0x7fdab0764400>"
            ]
          },
          "metadata": {
            "tags": []
          },
          "execution_count": 102
        },
        {
          "output_type": "display_data",
          "data": {
            "image/png": "[encoded data removed]",
            "text/plain": [
              "<Figure size 1080x432 with 1 Axes>"
            ]
          },
          "metadata": {
            "tags": []
          }
        }
      ]
    },
    {
      "cell_type": "markdown",
      "metadata": {
        "id": "b3-ri_LhExJ7"
      },
      "source": [
        "> most houses have 3 and 4 bedrooms"
      ]
    },
    {
      "cell_type": "code",
      "metadata": {
        "colab": {
          "base_uri": "https://localhost:8080/",
          "height": 408
        },
        "id": "aVN53wGTXQey",
        "outputId": "9adfe2ed-e747-4970-9a65-13861f66fd17"
      },
      "source": [
        "(houses.floors.value_counts()).plot(kind='bar',rot=0,title='distribution on floor numbers',figsize=(15,6))"
      ],
      "execution_count": null,
      "outputs": [
        {
          "output_type": "execute_result",
          "data": {
            "text/plain": [
              "<matplotlib.axes._subplots.AxesSubplot at 0x7fdab083c5c0>"
            ]
          },
          "metadata": {
            "tags": []
          },
          "execution_count": 104
        },
        {
          "output_type": "display_data",
          "data": {
            "image/png": "[encoded data removed]",
            "text/plain": [
              "<Figure size 1080x432 with 1 Axes>"
            ]
          },
          "metadata": {
            "tags": []
          }
        }
      ]
    },
    {
      "cell_type": "markdown",
      "metadata": {
        "id": "XNU6lmnHE2UK"
      },
      "source": [
        "> Most houses only have one floor with houses having 3 floors being the least"
      ]
    },
    {
      "cell_type": "code",
      "metadata": {
        "colab": {
          "base_uri": "https://localhost:8080/",
          "height": 408
        },
        "id": "3brgw2W5Xd7G",
        "outputId": "a5813ae1-09e9-435c-8dee-8afab2895dd6"
      },
      "source": [
        "(houses.waterfront.value_counts()).plot(kind='bar',rot=0,title='distribution on waterfront numbers',figsize=(15,6))"
      ],
      "execution_count": null,
      "outputs": [
        {
          "output_type": "execute_result",
          "data": {
            "text/plain": [
              "<matplotlib.axes._subplots.AxesSubplot at 0x7fdab0530208>"
            ]
          },
          "metadata": {
            "tags": []
          },
          "execution_count": 105
        },
        {
          "output_type": "display_data",
          "data": {
            "image/png": "[encoded data removed]",
            "text/plain": [
              "<Figure size 1080x432 with 1 Axes>"
            ]
          },
          "metadata": {
            "tags": []
          }
        }
      ]
    },
    {
      "cell_type": "markdown",
      "metadata": {
        "id": "iQWT_OAtE-47"
      },
      "source": [
        "> Most of the houses do not overlook a waterfront"
      ]
    },
    {
      "cell_type": "code",
      "metadata": {
        "colab": {
          "base_uri": "https://localhost:8080/",
          "height": 408
        },
        "id": "P3-nOi19Xlh1",
        "outputId": "52275c82-a8b1-4dc0-ca72-0fa47f4b4203"
      },
      "source": [
        "(houses.view.value_counts()).plot(kind='bar',rot=0,title='distribution on view numbers',figsize=(15,6))"
      ],
      "execution_count": null,
      "outputs": [
        {
          "output_type": "execute_result",
          "data": {
            "text/plain": [
              "<matplotlib.axes._subplots.AxesSubplot at 0x7fdab04ffbe0>"
            ]
          },
          "metadata": {
            "tags": []
          },
          "execution_count": 106
        },
        {
          "output_type": "display_data",
          "data": {
            "image/png": "[encoded data removed]",
            "text/plain": [
              "<Figure size 1080x432 with 1 Axes>"
            ]
          },
          "metadata": {
            "tags": []
          }
        }
      ]
    },
    {
      "cell_type": "markdown",
      "metadata": {
        "id": "hBlDwyQ5FFAL"
      },
      "source": [
        "> Most houses have poor views"
      ]
    },
    {
      "cell_type": "code",
      "metadata": {
        "colab": {
          "base_uri": "https://localhost:8080/",
          "height": 408
        },
        "id": "ONV9rOVNXtsD",
        "outputId": "d7fa9f9c-62ac-4a34-b573-e1d772cf6142"
      },
      "source": [
        "(houses.condition.value_counts()).plot(kind='bar',rot=0,title='distribution on condition of houses',figsize=(15,6))"
      ],
      "execution_count": null,
      "outputs": [
        {
          "output_type": "execute_result",
          "data": {
            "text/plain": [
              "<matplotlib.axes._subplots.AxesSubplot at 0x7fdab04ff1d0>"
            ]
          },
          "metadata": {
            "tags": []
          },
          "execution_count": 107
        },
        {
          "output_type": "display_data",
          "data": {
            "image/png": "[encoded data removed]",
            "text/plain": [
              "<Figure size 1080x432 with 1 Axes>"
            ]
          },
          "metadata": {
            "tags": []
          }
        }
      ]
    },
    {
      "cell_type": "markdown",
      "metadata": {
        "id": "ItUEu9E2FKUp"
      },
      "source": [
        "> The condition of most houses is average(3)"
      ]
    },
    {
      "cell_type": "code",
      "metadata": {
        "colab": {
          "base_uri": "https://localhost:8080/",
          "height": 408
        },
        "id": "3OPprcWpX1zp",
        "outputId": "71e966d5-a5e5-4193-955d-56d858d7618a"
      },
      "source": [
        "(houses.grade.value_counts()).plot(kind='bar',rot=0,title='distribution on grades',figsize=(15,6))"
      ],
      "execution_count": null,
      "outputs": [
        {
          "output_type": "execute_result",
          "data": {
            "text/plain": [
              "<matplotlib.axes._subplots.AxesSubplot at 0x7fdab044edd8>"
            ]
          },
          "metadata": {
            "tags": []
          },
          "execution_count": 108
        },
        {
          "output_type": "display_data",
          "data": {
            "image/png": "[encoded data removed]",
            "text/plain": [
              "<Figure size 1080x432 with 1 Axes>"
            ]
          },
          "metadata": {
            "tags": []
          }
        }
      ]
    },
    {
      "cell_type": "markdown",
      "metadata": {
        "id": "V9JmDzceGieb"
      },
      "source": [
        "> Most Houses have the average grade"
      ]
    },
    {
      "cell_type": "code",
      "metadata": {
        "colab": {
          "base_uri": "https://localhost:8080/",
          "height": 406
        },
        "id": "FNhWPuspX7ru",
        "outputId": "b0fab112-cd4d-422d-ba82-b3cf9a892ad7"
      },
      "source": [
        "(houses.bathrooms.value_counts()).plot(kind='bar',rot=0,title='distribution on bathroom numbers',figsize=(15,6))"
      ],
      "execution_count": null,
      "outputs": [
        {
          "output_type": "execute_result",
          "data": {
            "text/plain": [
              "<matplotlib.axes._subplots.AxesSubplot at 0x7fce36af8e48>"
            ]
          },
          "metadata": {
            "tags": []
          },
          "execution_count": 285
        },
        {
          "output_type": "display_data",
          "data": {
            "image/png": "[encoded data removed]",
            "text/plain": [
              "<Figure size 1080x432 with 1 Axes>"
            ]
          },
          "metadata": {
            "tags": [],
            "needs_background": "light"
          }
        }
      ]
    },
    {
      "cell_type": "markdown",
      "metadata": {
        "id": "ld-12A44Gxz-"
      },
      "source": [
        "> Most houses have 2 and a half bathrooms\n",
        "\n",
        "A full bathroom has either a sink and toilet and tub OR a sink and toilet and shower. ( It could also have sink and toilet and tub and shower. )\n",
        "\n",
        "A half bathroom has only a sink and toilet . Sometimes this is also called a “ Powder Room"
      ]
    },
    {
      "cell_type": "markdown",
      "metadata": {
        "id": "izdF6H91YBCW"
      },
      "source": [
        "### Bivarriate"
      ]
    },
    {
      "cell_type": "code",
      "metadata": {
        "colab": {
          "base_uri": "https://localhost:8080/",
          "height": 293
        },
        "id": "Z1s0WjbvcAHH",
        "outputId": "c46e8a8a-2831-4b03-d8e7-d94744808a50"
      },
      "source": [
        "plt.scatter(houses.price,houses.bedrooms)"
      ],
      "execution_count": null,
      "outputs": [
        {
          "output_type": "execute_result",
          "data": {
            "text/plain": [
              "<matplotlib.collections.PathCollection at 0x7fce37007f60>"
            ]
          },
          "metadata": {
            "tags": []
          },
          "execution_count": 287
        },
        {
          "output_type": "display_data",
          "data": {
            "image/png": "[encoded data removed]",
            "text/plain": [
              "<Figure size 432x288 with 1 Axes>"
            ]
          },
          "metadata": {
            "tags": [],
            "needs_background": "light"
          }
        }
      ]
    },
    {
      "cell_type": "markdown",
      "metadata": {
        "id": "j5Uj7i72JeJu"
      },
      "source": [
        "> The dustribution of bedrooms and house price implies that number of bedrooms doesnt have much of an impact on the price of the house"
      ]
    },
    {
      "cell_type": "code",
      "metadata": {
        "colab": {
          "base_uri": "https://localhost:8080/",
          "height": 296
        },
        "id": "OiUMhDREYIw1",
        "outputId": "c8268469-a20c-44e6-ce03-41dbcc02a3b8"
      },
      "source": [
        "plt.scatter(houses.price,houses.bathrooms)"
      ],
      "execution_count": null,
      "outputs": [
        {
          "output_type": "execute_result",
          "data": {
            "text/plain": [
              "<matplotlib.collections.PathCollection at 0x7fdab3195390>"
            ]
          },
          "metadata": {
            "tags": []
          },
          "execution_count": 68
        },
        {
          "output_type": "display_data",
          "data": {
            "image/png": "[encoded data removed]",
            "text/plain": [
              "<Figure size 432x288 with 1 Axes>"
            ]
          },
          "metadata": {
            "tags": []
          }
        }
      ]
    },
    {
      "cell_type": "markdown",
      "metadata": {
        "id": "DUI2_CivJQTG"
      },
      "source": [
        "> The price of houses increases with the increase in number of bathrooms"
      ]
    },
    {
      "cell_type": "code",
      "metadata": {
        "colab": {
          "base_uri": "https://localhost:8080/",
          "height": 296
        },
        "id": "6Yb0tjZfcJep",
        "outputId": "a52e4906-151b-4081-fe43-ee0e03c4e8da"
      },
      "source": [
        "plt.scatter(houses.price,houses.sqft_living)"
      ],
      "execution_count": null,
      "outputs": [
        {
          "output_type": "execute_result",
          "data": {
            "text/plain": [
              "<matplotlib.collections.PathCollection at 0x7fdab3151cf8>"
            ]
          },
          "metadata": {
            "tags": []
          },
          "execution_count": 69
        },
        {
          "output_type": "display_data",
          "data": {
            "image/png": "[encoded data removed]",
            "text/plain": [
              "<Figure size 432x288 with 1 Axes>"
            ]
          },
          "metadata": {
            "tags": []
          }
        }
      ]
    },
    {
      "cell_type": "markdown",
      "metadata": {
        "id": "tfKdLJq7JFlu"
      },
      "source": [
        "> The price of houses goes up as living space increases"
      ]
    },
    {
      "cell_type": "code",
      "metadata": {
        "colab": {
          "base_uri": "https://localhost:8080/",
          "height": 306
        },
        "id": "BqW5LXvWcQIW",
        "outputId": "9fec8e2b-3d90-4b31-fbd7-0433924ad222"
      },
      "source": [
        "plt.scatter(houses.price,houses.sqft_lot)"
      ],
      "execution_count": null,
      "outputs": [
        {
          "output_type": "execute_result",
          "data": {
            "text/plain": [
              "<matplotlib.collections.PathCollection at 0x7fdab30e6f28>"
            ]
          },
          "metadata": {
            "tags": []
          },
          "execution_count": 70
        },
        {
          "output_type": "display_data",
          "data": {
            "image/png": "[encoded data removed]",
            "text/plain": [
              "<Figure size 432x288 with 1 Axes>"
            ]
          },
          "metadata": {
            "tags": []
          }
        }
      ]
    },
    {
      "cell_type": "markdown",
      "metadata": {
        "id": "9Sq_mNS6JzC3"
      },
      "source": [
        ">  the distribution implies The land space has little impact on price of the house, as can be seen where there are different land sizes at the same price"
      ]
    },
    {
      "cell_type": "code",
      "metadata": {
        "colab": {
          "base_uri": "https://localhost:8080/",
          "height": 282
        },
        "id": "M3uRcEDLcmya",
        "outputId": "24207051-57bb-4f41-89a6-36e24955b387"
      },
      "source": [
        "\n",
        "plt.scatter(houses.sqft_living,houses.sqft_living15)"
      ],
      "execution_count": null,
      "outputs": [
        {
          "output_type": "execute_result",
          "data": {
            "text/plain": [
              "<matplotlib.collections.PathCollection at 0x7fdab2fa2048>"
            ]
          },
          "metadata": {
            "tags": []
          },
          "execution_count": 73
        },
        {
          "output_type": "display_data",
          "data": {
            "image/png": "[encoded data removed]",
            "text/plain": [
              "<Figure size 432x288 with 1 Axes>"
            ]
          },
          "metadata": {
            "tags": []
          }
        }
      ]
    },
    {
      "cell_type": "markdown",
      "metadata": {
        "id": "WwRcGbuDKS_p"
      },
      "source": [
        "> This implies houses in the  same neighbourhood generally have similar living spaces, since living space and neighbour living space is directly proportional"
      ]
    },
    {
      "cell_type": "markdown",
      "metadata": {
        "id": "J0FJBhunqTpK"
      },
      "source": [
        "- Correlations"
      ]
    },
    {
      "cell_type": "code",
      "metadata": {
        "colab": {
          "base_uri": "https://localhost:8080/",
          "height": 1000
        },
        "id": "y-8HAxwYbLsu",
        "outputId": "10e1c6b4-502b-4289-fc02-64a6cc5f79d2"
      },
      "source": [
        "heat=houses.copy()\n",
        "plt.subplots(figsize=(20,20))\n",
        "sns.heatmap(heat.corr(),annot=True)"
      ],
      "execution_count": null,
      "outputs": [
        {
          "output_type": "execute_result",
          "data": {
            "text/plain": [
              "<matplotlib.axes._subplots.AxesSubplot at 0x7fdab3592f28>"
            ]
          },
          "metadata": {
            "tags": []
          },
          "execution_count": 66
        },
        {
          "output_type": "display_data",
          "data": {
            "image/png": "[encoded data removed]",
            "text/plain": [
              "<Figure size 1440x1440 with 2 Axes>"
            ]
          },
          "metadata": {
            "tags": []
          }
        }
      ]
    },
    {
      "cell_type": "markdown",
      "metadata": {
        "id": "ONrsZBjLK3a5"
      },
      "source": [
        "- Amount of living space above ground has a high correlation to the total amount of living space since most houses dont have basements.\n",
        "  - It is also highly related to the grade of the house which in most cases is subject to during grading of houses.\n",
        "- Living space of the house has a high correlation with the living space of the houses in the neighbourhood since the distribution above shows they are directly proportional hence houses in the neighbourhood will have similar living spaces"
      ]
    },
    {
      "cell_type": "markdown",
      "metadata": {
        "id": "QegyBdul9YAO"
      },
      "source": [
        "## Implementing the solution"
      ]
    },
    {
      "cell_type": "markdown",
      "metadata": {
        "id": "aMaG2A-Bc-16"
      },
      "source": [
        "## regressions"
      ]
    },
    {
      "cell_type": "code",
      "metadata": {
        "id": "vomV43HerlkU"
      },
      "source": [
        "pd.options.display.float_format='{:.6f}'.format"
      ],
      "execution_count": 13,
      "outputs": []
    },
    {
      "cell_type": "code",
      "metadata": {
        "id": "BR9mFQ8VxoK0"
      },
      "source": [
        "x=houses.drop('price',axis=1)\n",
        "y=houses['price']"
      ],
      "execution_count": 14,
      "outputs": []
    },
    {
      "cell_type": "markdown",
      "metadata": {
        "id": "WTFcoo8V4-Ea"
      },
      "source": [
        "### Linear"
      ]
    },
    {
      "cell_type": "markdown",
      "metadata": {
        "id": "wG9RFXUdPwdi"
      },
      "source": [
        "- importig the libraries"
      ]
    },
    {
      "cell_type": "code",
      "metadata": {
        "id": "NO6yXEd75Avx"
      },
      "source": [
        "from sklearn.model_selection import train_test_split\n",
        "from sklearn.linear_model import LinearRegression\n",
        "from sklearn import metrics\n",
        "from sklearn.model_selection import KFold \n",
        "import scipy as sp #For homogenuity"
      ],
      "execution_count": 15,
      "outputs": []
    },
    {
      "cell_type": "markdown",
      "metadata": {
        "id": "290zj4ILP09J"
      },
      "source": [
        "- Checking the weight of the columns to price"
      ]
    },
    {
      "cell_type": "code",
      "metadata": {
        "colab": {
          "base_uri": "https://localhost:8080/",
          "height": 565
        },
        "id": "7r3uK22X9Dd-",
        "outputId": "53833fa3-3bbd-4cff-c4de-6dada3657820"
      },
      "source": [
        "regressor=LinearRegression()\n",
        "regressor.fit(x,y)\n",
        "coeff_df = pd.DataFrame(regressor.coef_, x.columns, columns=['Coefficient'])\n",
        "coeff_df"
      ],
      "execution_count": null,
      "outputs": [
        {
          "output_type": "execute_result",
          "data": {
            "text/html": [
              "<div>\n",
              "<style scoped>\n",
              "    .dataframe tbody tr th:only-of-type {\n",
              "        vertical-align: middle;\n",
              "    }\n",
              "\n",
              "    .dataframe tbody tr th {\n",
              "        vertical-align: top;\n",
              "    }\n",
              "\n",
              "    .dataframe thead th {\n",
              "        text-align: right;\n",
              "    }\n",
              "</style>\n",
              "<table border=\"1\" class=\"dataframe\">\n",
              "  <thead>\n",
              "    <tr style=\"text-align: right;\">\n",
              "      <th></th>\n",
              "      <th>Coefficient</th>\n",
              "    </tr>\n",
              "  </thead>\n",
              "  <tbody>\n",
              "    <tr>\n",
              "      <th>bedrooms</th>\n",
              "      <td>-35730.389355</td>\n",
              "    </tr>\n",
              "    <tr>\n",
              "      <th>bathrooms</th>\n",
              "      <td>41678.985528</td>\n",
              "    </tr>\n",
              "    <tr>\n",
              "      <th>sqft_living</th>\n",
              "      <td>110.329588</td>\n",
              "    </tr>\n",
              "    <tr>\n",
              "      <th>sqft_lot</th>\n",
              "      <td>0.127515</td>\n",
              "    </tr>\n",
              "    <tr>\n",
              "      <th>floors</th>\n",
              "      <td>4436.471826</td>\n",
              "    </tr>\n",
              "    <tr>\n",
              "      <th>waterfront</th>\n",
              "      <td>582697.247728</td>\n",
              "    </tr>\n",
              "    <tr>\n",
              "      <th>view</th>\n",
              "      <td>53067.551226</td>\n",
              "    </tr>\n",
              "    <tr>\n",
              "      <th>condition</th>\n",
              "      <td>26361.707020</td>\n",
              "    </tr>\n",
              "    <tr>\n",
              "      <th>grade</th>\n",
              "      <td>96131.325296</td>\n",
              "    </tr>\n",
              "    <tr>\n",
              "      <th>sqft_above</th>\n",
              "      <td>71.492052</td>\n",
              "    </tr>\n",
              "    <tr>\n",
              "      <th>sqft_basement</th>\n",
              "      <td>38.837536</td>\n",
              "    </tr>\n",
              "    <tr>\n",
              "      <th>yr_built</th>\n",
              "      <td>-2622.579124</td>\n",
              "    </tr>\n",
              "    <tr>\n",
              "      <th>yr_renovated</th>\n",
              "      <td>20.063719</td>\n",
              "    </tr>\n",
              "    <tr>\n",
              "      <th>zipcode</th>\n",
              "      <td>-580.182993</td>\n",
              "    </tr>\n",
              "    <tr>\n",
              "      <th>lat</th>\n",
              "      <td>603530.605680</td>\n",
              "    </tr>\n",
              "    <tr>\n",
              "      <th>long</th>\n",
              "      <td>-215424.844999</td>\n",
              "    </tr>\n",
              "    <tr>\n",
              "      <th>sqft_living15</th>\n",
              "      <td>21.335070</td>\n",
              "    </tr>\n",
              "    <tr>\n",
              "      <th>sqft_lot15</th>\n",
              "      <td>-0.383418</td>\n",
              "    </tr>\n",
              "  </tbody>\n",
              "</table>\n",
              "</div>"
            ],
            "text/plain": [
              "                 Coefficient\n",
              "bedrooms       -35730.389355\n",
              "bathrooms       41678.985528\n",
              "sqft_living       110.329588\n",
              "sqft_lot            0.127515\n",
              "floors           4436.471826\n",
              "waterfront     582697.247728\n",
              "view            53067.551226\n",
              "condition       26361.707020\n",
              "grade           96131.325296\n",
              "sqft_above         71.492052\n",
              "sqft_basement      38.837536\n",
              "yr_built        -2622.579124\n",
              "yr_renovated       20.063719\n",
              "zipcode          -580.182993\n",
              "lat            603530.605680\n",
              "long          -215424.844999\n",
              "sqft_living15      21.335070\n",
              "sqft_lot15         -0.383418"
            ]
          },
          "metadata": {
            "tags": []
          },
          "execution_count": 95
        }
      ]
    },
    {
      "cell_type": "code",
      "metadata": {
        "id": "-GGvdKZI9TDk"
      },
      "source": [
        "x_=x[['lat','long','waterfront','grade','view','bathrooms','condition']]\n",
        "y_=np.log10(y)"
      ],
      "execution_count": null,
      "outputs": []
    },
    {
      "cell_type": "markdown",
      "metadata": {
        "id": "-W4XhrQ-A0ej"
      },
      "source": [
        "> I picked the attributes that have the highest impact on the prediction of prices ( the absolute value of the coeffecient of the attribute)\n",
        "\n",
        "> I converted the values of the prices to log of base 10 to counter the fact that the values kept predicting negative values."
      ]
    },
    {
      "cell_type": "code",
      "metadata": {
        "id": "iVekyJfQ7F0r"
      },
      "source": [
        "def unlog(x):\n",
        "  return 10**x"
      ],
      "execution_count": 29,
      "outputs": []
    },
    {
      "cell_type": "markdown",
      "metadata": {
        "id": "sMDx2sH__6Es"
      },
      "source": [
        "> Changing the values of the values to and from base 10\n",
        "- based on \n",
        "** logb (y)= x\n",
        "** y = b ^ x\n"
      ]
    },
    {
      "cell_type": "markdown",
      "metadata": {
        "id": "4trWYGnF8O7B"
      },
      "source": [
        "* checking for multicolinearity"
      ]
    },
    {
      "cell_type": "code",
      "metadata": {
        "colab": {
          "base_uri": "https://localhost:8080/",
          "height": 248
        },
        "id": "INoAsTqfydid",
        "outputId": "345a250a-7c75-40a4-8397-093c7e1ee423"
      },
      "source": [
        "correlations = x_.corr()\n",
        "pd.DataFrame(np.linalg.inv(correlations.values), index = correlations.index, columns=correlations.columns)"
      ],
      "execution_count": null,
      "outputs": [
        {
          "output_type": "execute_result",
          "data": {
            "text/html": [
              "<div>\n",
              "<style scoped>\n",
              "    .dataframe tbody tr th:only-of-type {\n",
              "        vertical-align: middle;\n",
              "    }\n",
              "\n",
              "    .dataframe tbody tr th {\n",
              "        vertical-align: top;\n",
              "    }\n",
              "\n",
              "    .dataframe thead th {\n",
              "        text-align: right;\n",
              "    }\n",
              "</style>\n",
              "<table border=\"1\" class=\"dataframe\">\n",
              "  <thead>\n",
              "    <tr style=\"text-align: right;\">\n",
              "      <th></th>\n",
              "      <th>lat</th>\n",
              "      <th>long</th>\n",
              "      <th>waterfront</th>\n",
              "      <th>grade</th>\n",
              "      <th>view</th>\n",
              "      <th>bathrooms</th>\n",
              "      <th>condition</th>\n",
              "    </tr>\n",
              "  </thead>\n",
              "  <tbody>\n",
              "    <tr>\n",
              "      <th>lat</th>\n",
              "      <td>1.045718</td>\n",
              "      <td>0.173039</td>\n",
              "      <td>0.019395</td>\n",
              "      <td>-0.207793</td>\n",
              "      <td>0.038714</td>\n",
              "      <td>0.066642</td>\n",
              "      <td>0.010257</td>\n",
              "    </tr>\n",
              "    <tr>\n",
              "      <th>long</th>\n",
              "      <td>0.173039</td>\n",
              "      <td>1.111741</td>\n",
              "      <td>0.011505</td>\n",
              "      <td>-0.156971</td>\n",
              "      <td>0.149446</td>\n",
              "      <td>-0.167873</td>\n",
              "      <td>0.070283</td>\n",
              "    </tr>\n",
              "    <tr>\n",
              "      <th>waterfront</th>\n",
              "      <td>0.019395</td>\n",
              "      <td>0.011505</td>\n",
              "      <td>1.193710</td>\n",
              "      <td>0.019617</td>\n",
              "      <td>-0.484241</td>\n",
              "      <td>-0.000371</td>\n",
              "      <td>0.006625</td>\n",
              "    </tr>\n",
              "    <tr>\n",
              "      <th>grade</th>\n",
              "      <td>-0.207793</td>\n",
              "      <td>-0.156971</td>\n",
              "      <td>0.019617</td>\n",
              "      <td>1.920912</td>\n",
              "      <td>-0.287950</td>\n",
              "      <td>-1.168810</td>\n",
              "      <td>0.124879</td>\n",
              "    </tr>\n",
              "    <tr>\n",
              "      <th>view</th>\n",
              "      <td>0.038714</td>\n",
              "      <td>0.149446</td>\n",
              "      <td>-0.484241</td>\n",
              "      <td>-0.287950</td>\n",
              "      <td>1.294793</td>\n",
              "      <td>-0.065790</td>\n",
              "      <td>-0.084660</td>\n",
              "    </tr>\n",
              "    <tr>\n",
              "      <th>bathrooms</th>\n",
              "      <td>0.066642</td>\n",
              "      <td>-0.167873</td>\n",
              "      <td>-0.000371</td>\n",
              "      <td>-1.168810</td>\n",
              "      <td>-0.065790</td>\n",
              "      <td>1.831165</td>\n",
              "      <td>0.045850</td>\n",
              "    </tr>\n",
              "    <tr>\n",
              "      <th>condition</th>\n",
              "      <td>0.010257</td>\n",
              "      <td>0.070283</td>\n",
              "      <td>0.006625</td>\n",
              "      <td>0.124879</td>\n",
              "      <td>-0.084660</td>\n",
              "      <td>0.045850</td>\n",
              "      <td>1.035203</td>\n",
              "    </tr>\n",
              "  </tbody>\n",
              "</table>\n",
              "</div>"
            ],
            "text/plain": [
              "                 lat      long  waterfront  ...      view  bathrooms  condition\n",
              "lat         1.045718  0.173039    0.019395  ...  0.038714   0.066642   0.010257\n",
              "long        0.173039  1.111741    0.011505  ...  0.149446  -0.167873   0.070283\n",
              "waterfront  0.019395  0.011505    1.193710  ... -0.484241  -0.000371   0.006625\n",
              "grade      -0.207793 -0.156971    0.019617  ... -0.287950  -1.168810   0.124879\n",
              "view        0.038714  0.149446   -0.484241  ...  1.294793  -0.065790  -0.084660\n",
              "bathrooms   0.066642 -0.167873   -0.000371  ... -0.065790   1.831165   0.045850\n",
              "condition   0.010257  0.070283    0.006625  ... -0.084660   0.045850   1.035203\n",
              "\n",
              "[7 rows x 7 columns]"
            ]
          },
          "metadata": {
            "tags": []
          },
          "execution_count": 111
        }
      ]
    },
    {
      "cell_type": "markdown",
      "metadata": {
        "id": "z3VqVm1xyoIw"
      },
      "source": [
        "> they are all around 1 so they are not that multicolinear and can be used"
      ]
    },
    {
      "cell_type": "markdown",
      "metadata": {
        "id": "sZar_pcSP9MD"
      },
      "source": [
        "- Creating test and train splits and the model"
      ]
    },
    {
      "cell_type": "code",
      "metadata": {
        "colab": {
          "base_uri": "https://localhost:8080/",
          "height": 248
        },
        "id": "GdTfFSW-5Av1",
        "outputId": "55d41360-c483-4577-d1f9-871fd0810b2c"
      },
      "source": [
        "x_train,x_test,y_train,y_test= train_test_split(x_,y_,test_size=0.2,random_state=543)\n",
        "linear=LinearRegression()\n",
        "linear.fit(x_train,y_train)\n",
        "\n",
        "coeff_df = pd.DataFrame(unlog(linear.coef_), x_.columns, columns=['Coefficient'])\n",
        "coeff_df"
      ],
      "execution_count": null,
      "outputs": [
        {
          "output_type": "execute_result",
          "data": {
            "text/html": [
              "<div>\n",
              "<style scoped>\n",
              "    .dataframe tbody tr th:only-of-type {\n",
              "        vertical-align: middle;\n",
              "    }\n",
              "\n",
              "    .dataframe tbody tr th {\n",
              "        vertical-align: top;\n",
              "    }\n",
              "\n",
              "    .dataframe thead th {\n",
              "        text-align: right;\n",
              "    }\n",
              "</style>\n",
              "<table border=\"1\" class=\"dataframe\">\n",
              "  <thead>\n",
              "    <tr style=\"text-align: right;\">\n",
              "      <th></th>\n",
              "      <th>Coefficient</th>\n",
              "    </tr>\n",
              "  </thead>\n",
              "  <tbody>\n",
              "    <tr>\n",
              "      <th>lat</th>\n",
              "      <td>4.366000</td>\n",
              "    </tr>\n",
              "    <tr>\n",
              "      <th>long</th>\n",
              "      <td>0.953651</td>\n",
              "    </tr>\n",
              "    <tr>\n",
              "      <th>waterfront</th>\n",
              "      <td>1.500108</td>\n",
              "    </tr>\n",
              "    <tr>\n",
              "      <th>grade</th>\n",
              "      <td>1.261022</td>\n",
              "    </tr>\n",
              "    <tr>\n",
              "      <th>view</th>\n",
              "      <td>1.103794</td>\n",
              "    </tr>\n",
              "    <tr>\n",
              "      <th>bathrooms</th>\n",
              "      <td>1.135397</td>\n",
              "    </tr>\n",
              "    <tr>\n",
              "      <th>condition</th>\n",
              "      <td>1.116944</td>\n",
              "    </tr>\n",
              "  </tbody>\n",
              "</table>\n",
              "</div>"
            ],
            "text/plain": [
              "            Coefficient\n",
              "lat            4.366000\n",
              "long           0.953651\n",
              "waterfront     1.500108\n",
              "grade          1.261022\n",
              "view           1.103794\n",
              "bathrooms      1.135397\n",
              "condition      1.116944"
            ]
          },
          "metadata": {
            "tags": []
          },
          "execution_count": 114
        }
      ]
    },
    {
      "cell_type": "markdown",
      "metadata": {
        "id": "Edm4AYWWQDkY"
      },
      "source": [
        "- Checking the R2 score and The comparison of the predicted prices and actual prices"
      ]
    },
    {
      "cell_type": "code",
      "metadata": {
        "colab": {
          "base_uri": "https://localhost:8080/",
          "height": 456
        },
        "id": "TLnFP4K05Av2",
        "outputId": "ab91057a-e754-470f-c5c8-61b0a364150b"
      },
      "source": [
        "y_pred=linear.predict(x_test)\n",
        "y_pred_=unlog(y_pred)\n",
        "y_test_=unlog(y_test)\n",
        "comp=pd.DataFrame({'Actual':y_test,'Predicted':y_pred})\n",
        "print('R2 score',metrics.r2_score(y_test, y_pred)*100,'%')\n",
        "print('log10 dataframe',comp.describe())\n",
        "\n",
        "comp_=pd.DataFrame({'Actual':y_test_,'Predicted':y_pred_})\n",
        "print('R2 score',metrics.r2_score(y_test_, y_pred_)*100,'%')\n",
        "comp_.describe()"
      ],
      "execution_count": null,
      "outputs": [
        {
          "output_type": "stream",
          "text": [
            "R2 score 69.96440814181585 %\n",
            "log10 dataframe            Actual   Predicted\n",
            "count 4322.000000 4322.000000\n",
            "mean     5.666445    5.665600\n",
            "std      0.229669    0.193737\n",
            "min      4.913814    4.726792\n",
            "25%      5.509370    5.534131\n",
            "50%      5.653213    5.660029\n",
            "75%      5.806180    5.777266\n",
            "max      6.653213    6.729730\n",
            "R2 score 68.06351782029788 %\n"
          ],
          "name": "stdout"
        },
        {
          "output_type": "execute_result",
          "data": {
            "text/html": [
              "<div>\n",
              "<style scoped>\n",
              "    .dataframe tbody tr th:only-of-type {\n",
              "        vertical-align: middle;\n",
              "    }\n",
              "\n",
              "    .dataframe tbody tr th {\n",
              "        vertical-align: top;\n",
              "    }\n",
              "\n",
              "    .dataframe thead th {\n",
              "        text-align: right;\n",
              "    }\n",
              "</style>\n",
              "<table border=\"1\" class=\"dataframe\">\n",
              "  <thead>\n",
              "    <tr style=\"text-align: right;\">\n",
              "      <th></th>\n",
              "      <th>Actual</th>\n",
              "      <th>Predicted</th>\n",
              "    </tr>\n",
              "  </thead>\n",
              "  <tbody>\n",
              "    <tr>\n",
              "      <th>count</th>\n",
              "      <td>4322.000000</td>\n",
              "      <td>4322.000000</td>\n",
              "    </tr>\n",
              "    <tr>\n",
              "      <th>mean</th>\n",
              "      <td>541148.981953</td>\n",
              "      <td>517153.797697</td>\n",
              "    </tr>\n",
              "    <tr>\n",
              "      <th>std</th>\n",
              "      <td>372091.638669</td>\n",
              "      <td>303145.288450</td>\n",
              "    </tr>\n",
              "    <tr>\n",
              "      <th>min</th>\n",
              "      <td>82000.000000</td>\n",
              "      <td>53307.924494</td>\n",
              "    </tr>\n",
              "    <tr>\n",
              "      <th>25%</th>\n",
              "      <td>323125.000000</td>\n",
              "      <td>342082.843726</td>\n",
              "    </tr>\n",
              "    <tr>\n",
              "      <th>50%</th>\n",
              "      <td>450000.000000</td>\n",
              "      <td>457118.705111</td>\n",
              "    </tr>\n",
              "    <tr>\n",
              "      <th>75%</th>\n",
              "      <td>640000.000000</td>\n",
              "      <td>598777.598471</td>\n",
              "    </tr>\n",
              "    <tr>\n",
              "      <th>max</th>\n",
              "      <td>4500000.000000</td>\n",
              "      <td>5366977.851901</td>\n",
              "    </tr>\n",
              "  </tbody>\n",
              "</table>\n",
              "</div>"
            ],
            "text/plain": [
              "              Actual      Predicted\n",
              "count    4322.000000    4322.000000\n",
              "mean   541148.981953  517153.797697\n",
              "std    372091.638669  303145.288450\n",
              "min     82000.000000   53307.924494\n",
              "25%    323125.000000  342082.843726\n",
              "50%    450000.000000  457118.705111\n",
              "75%    640000.000000  598777.598471\n",
              "max   4500000.000000 5366977.851901"
            ]
          },
          "metadata": {
            "tags": []
          },
          "execution_count": 102
        }
      ]
    },
    {
      "cell_type": "markdown",
      "metadata": {
        "id": "JssyN9p1Q3d_"
      },
      "source": [
        "> An R2 score of 68% is acceptable furthermore the means are simmilar ,the standard deviation also seems close"
      ]
    },
    {
      "cell_type": "code",
      "metadata": {
        "colab": {
          "base_uri": "https://localhost:8080/"
        },
        "id": "PIv17Ie7YBH6",
        "outputId": "f6ecf4f9-66eb-4db3-8464-96497e145098"
      },
      "source": [
        "print('Mean Absolute Error:', metrics.mean_absolute_error(y_test_, y_pred_))\n",
        "lin=metrics.mean_squared_error(y_test_, y_pred_)\n",
        "print('Mean Squared Error:', lin)\n",
        "print('Root Mean Squared Error:', np.sqrt(metrics.mean_squared_error(y_test_, y_pred_)))"
      ],
      "execution_count": null,
      "outputs": [
        {
          "output_type": "stream",
          "text": [
            "Mean Absolute Error: 125153.92345878284\n",
            "Mean Squared Error: 44206527585.525375\n",
            "Root Mean Squared Error: 210253.4841222028\n"
          ],
          "name": "stdout"
        }
      ]
    },
    {
      "cell_type": "code",
      "metadata": {
        "colab": {
          "base_uri": "https://localhost:8080/"
        },
        "id": "a_TtLaj6WthX",
        "outputId": "e9c05ded-3672-402a-d1a0-69ea94823a27"
      },
      "source": [
        "x_=x[['lat','long','waterfront','grade','view','bathrooms','condition']].values\n",
        "y_=(np.log10(y)).values\n",
        "\n",
        "folds = KFold(n_splits=10)\n",
        "\n",
        "rmses = []\n",
        "count = 1\n",
        "for train, test in folds.split(x_):\n",
        "  x_train, x_test = x_[train], x_[test]\n",
        "  y_train, y_test = y_[train], y_[test]\n",
        "\n",
        "  regressor = LinearRegression()  \n",
        "  regressor.fit(x_train, y_train)\n",
        "\n",
        "  y_pred = regressor.predict(x_test)\n",
        "  y_pred_=unlog(y_pred)\n",
        "  y_test_=unlog(y_test)\n",
        "\n",
        "  rmse =  np.sqrt(metrics.mean_squared_error(y_test_, y_pred_))\n",
        "  rmses.append(rmse)\n",
        "  \n",
        "  print('Model',count,' Root Mean Squared Error:',rmse)\n",
        "  count = count + 1\n",
        "print('average rmse',np.mean(rmses))"
      ],
      "execution_count": null,
      "outputs": [
        {
          "output_type": "stream",
          "text": [
            "Model 1  Root Mean Squared Error: 198028.9086415345\n",
            "Model 2  Root Mean Squared Error: 236957.67537770447\n",
            "Model 3  Root Mean Squared Error: 204121.60432773927\n",
            "Model 4  Root Mean Squared Error: 209837.68109102486\n",
            "Model 5  Root Mean Squared Error: 183918.92833028265\n",
            "Model 6  Root Mean Squared Error: 210359.12485952026\n",
            "Model 7  Root Mean Squared Error: 206640.11365981583\n",
            "Model 8  Root Mean Squared Error: 202761.98769002385\n",
            "Model 9  Root Mean Squared Error: 202134.7556556162\n",
            "Model 10  Root Mean Squared Error: 212170.88742933967\n",
            "average rmse 206693.16670626015\n"
          ],
          "name": "stdout"
        }
      ]
    },
    {
      "cell_type": "markdown",
      "metadata": {
        "id": "CVYFd-83RLSh"
      },
      "source": [
        "> Cross validation using Kfold shows the models rmse is above the average rmse of 10 folds although the value is not explicitely larger than all rmse values present in the kfold implying it is not wrong"
      ]
    },
    {
      "cell_type": "code",
      "metadata": {
        "colab": {
          "base_uri": "https://localhost:8080/",
          "height": 277
        },
        "id": "NHABUoAAap13",
        "outputId": "cd18b02e-68ca-4d75-eb24-b68622cad02f"
      },
      "source": [
        "residuals = np.subtract(y_pred_, y_test_)\n",
        "pd.DataFrame(residuals).describe()"
      ],
      "execution_count": null,
      "outputs": [
        {
          "output_type": "execute_result",
          "data": {
            "text/html": [
              "<div>\n",
              "<style scoped>\n",
              "    .dataframe tbody tr th:only-of-type {\n",
              "        vertical-align: middle;\n",
              "    }\n",
              "\n",
              "    .dataframe tbody tr th {\n",
              "        vertical-align: top;\n",
              "    }\n",
              "\n",
              "    .dataframe thead th {\n",
              "        text-align: right;\n",
              "    }\n",
              "</style>\n",
              "<table border=\"1\" class=\"dataframe\">\n",
              "  <thead>\n",
              "    <tr style=\"text-align: right;\">\n",
              "      <th></th>\n",
              "      <th>0</th>\n",
              "    </tr>\n",
              "  </thead>\n",
              "  <tbody>\n",
              "    <tr>\n",
              "      <th>count</th>\n",
              "      <td>2161.000000</td>\n",
              "    </tr>\n",
              "    <tr>\n",
              "      <th>mean</th>\n",
              "      <td>-10923.866134</td>\n",
              "    </tr>\n",
              "    <tr>\n",
              "      <th>std</th>\n",
              "      <td>211938.529628</td>\n",
              "    </tr>\n",
              "    <tr>\n",
              "      <th>min</th>\n",
              "      <td>-1894663.374272</td>\n",
              "    </tr>\n",
              "    <tr>\n",
              "      <th>25%</th>\n",
              "      <td>-73245.918020</td>\n",
              "    </tr>\n",
              "    <tr>\n",
              "      <th>50%</th>\n",
              "      <td>9728.711325</td>\n",
              "    </tr>\n",
              "    <tr>\n",
              "      <th>75%</th>\n",
              "      <td>89563.091432</td>\n",
              "    </tr>\n",
              "    <tr>\n",
              "      <th>max</th>\n",
              "      <td>1905122.649839</td>\n",
              "    </tr>\n",
              "  </tbody>\n",
              "</table>\n",
              "</div>"
            ],
            "text/plain": [
              "                    0\n",
              "count     2161.000000\n",
              "mean    -10923.866134\n",
              "std     211938.529628\n",
              "min   -1894663.374272\n",
              "25%     -73245.918020\n",
              "50%       9728.711325\n",
              "75%      89563.091432\n",
              "max    1905122.649839"
            ]
          },
          "metadata": {
            "tags": []
          },
          "execution_count": 105
        }
      ]
    },
    {
      "cell_type": "code",
      "metadata": {
        "colab": {
          "base_uri": "https://localhost:8080/",
          "height": 290
        },
        "id": "nqcWtOGBa3y8",
        "outputId": "dffa0a1b-91d6-40fa-fdd1-051adb2ecd1e"
      },
      "source": [
        "plt.scatter(y_pred_, residuals, color='black')\n",
        "plt.ylabel('residual')\n",
        "plt.xlabel('fitted values')\n",
        "plt.axhline(y= residuals.mean(), color='red', linewidth=1)\n",
        "plt.show()"
      ],
      "execution_count": null,
      "outputs": [
        {
          "output_type": "display_data",
          "data": {
            "image/png": "[encoded data removed]",
            "text/plain": [
              "<Figure size 432x288 with 1 Axes>"
            ]
          },
          "metadata": {
            "tags": [],
            "needs_background": "light"
          }
        }
      ]
    },
    {
      "cell_type": "markdown",
      "metadata": {
        "id": "UwbNr5S9a__z"
      },
      "source": [
        "> the residuals are centered around 0 and shows an eliptic patern"
      ]
    },
    {
      "cell_type": "markdown",
      "metadata": {
        "id": "y8Xs7kTTTIqb"
      },
      "source": [
        "- Checking our heteroskedasticity "
      ]
    },
    {
      "cell_type": "code",
      "metadata": {
        "id": "sXm0WrqaStHQ"
      },
      "source": [
        "\n",
        "test_result, p_value = sp.stats.bartlett(y_pred_, residuals)\n",
        "\n",
        "degree_of_freedom = len(y_pred)-1\n",
        "probability = 1 - p_value\n",
        "crit = sp.stats.chi2.ppf(probability, degree_of_freedom)\n",
        "print(crit,test_result)\n",
        "if (test_result > crit):\n",
        "  print('Unequal variances, the model should be reassessed')\n",
        "else:\n",
        "  print('Constant variance , accept null hypothesis')"
      ],
      "execution_count": null,
      "outputs": []
    },
    {
      "cell_type": "markdown",
      "metadata": {
        "id": "rrnT0Ma9YJOa"
      },
      "source": [
        "### quantile"
      ]
    },
    {
      "cell_type": "markdown",
      "metadata": {
        "id": "RboYlyA6TX5L"
      },
      "source": [
        "- importing the libraries for the quantile plot"
      ]
    },
    {
      "cell_type": "code",
      "metadata": {
        "id": "UisNh3XKea-a",
        "colab": {
          "base_uri": "https://localhost:8080/"
        },
        "outputId": "b1758195-b3bd-49c4-b301-5ff93ac3cf6a"
      },
      "source": [
        "import statsmodels.formula.api as smf"
      ],
      "execution_count": null,
      "outputs": [
        {
          "output_type": "stream",
          "text": [
            "/usr/local/lib/python3.6/dist-packages/statsmodels/tools/_testing.py:19: FutureWarning: pandas.util.testing is deprecated. Use the functions in the public API at pandas.testing instead.\n",
            "  import pandas.util.testing as tm\n"
          ],
          "name": "stderr"
        }
      ]
    },
    {
      "cell_type": "markdown",
      "metadata": {
        "id": "FPjru-hX8VB5"
      },
      "source": [
        "m1"
      ]
    },
    {
      "cell_type": "code",
      "metadata": {
        "id": "hqGxXTkMPq1-"
      },
      "source": [
        "x__=x[['lat','long','waterfront','grade','view','bathrooms','condition']]"
      ],
      "execution_count": null,
      "outputs": []
    },
    {
      "cell_type": "code",
      "metadata": {
        "colab": {
          "base_uri": "https://localhost:8080/"
        },
        "id": "CgSSXshBfwXd",
        "outputId": "12f26046-3725-4772-dfdb-16b6a4c895d2"
      },
      "source": [
        "quantiles = [0.25,0.5,0.75]\n",
        "models = []\n",
        "params = []\n",
        "\n",
        "for qt in quantiles:\n",
        "\tmod = smf.quantreg(f\"y ~ x__\", houses)\n",
        "\tres = mod.fit(q = qt )\n",
        "\tmodels.append(res);\n",
        "\tprint(res.summary())"
      ],
      "execution_count": null,
      "outputs": [
        {
          "output_type": "stream",
          "text": [
            "/usr/local/lib/python3.6/dist-packages/statsmodels/regression/quantile_regression.py:192: IterationLimitWarning: Maximum number of iterations (1000) reached.\n",
            "  \") reached.\", IterationLimitWarning)\n"
          ],
          "name": "stderr"
        },
        {
          "output_type": "stream",
          "text": [
            "                         QuantReg Regression Results                          \n",
            "==============================================================================\n",
            "Dep. Variable:                      y   Pseudo R-squared:               0.3619\n",
            "Model:                       QuantReg   Bandwidth:                   2.025e+04\n",
            "Method:                 Least Squares   Sparsity:                    2.971e+05\n",
            "Date:                Sun, 22 Nov 2020   No. Observations:                21610\n",
            "Time:                        10:16:17   Df Residuals:                    21602\n",
            "                                        Df Model:                            7\n",
            "==============================================================================\n",
            "                 coef    std err          t      P>|t|      [0.025      0.975]\n",
            "------------------------------------------------------------------------------\n",
            "Intercept  -1.539e+07   8.21e+05    -18.749      0.000    -1.7e+07   -1.38e+07\n",
            "x__[0]      4.845e+05   7374.989     65.696      0.000     4.7e+05    4.99e+05\n",
            "x__[1]      6.722e+04   6785.992      9.905      0.000    5.39e+04    8.05e+04\n",
            "x__[2]      2.598e+05   1.11e+04     23.451      0.000    2.38e+05    2.81e+05\n",
            "x__[3]       9.68e+04    961.825    100.643      0.000    9.49e+04    9.87e+04\n",
            "x__[4]      5.268e+04   1323.981     39.790      0.000    5.01e+04    5.53e+04\n",
            "x__[5]      4.619e+04   1527.396     30.241      0.000    4.32e+04    4.92e+04\n",
            "x__[6]      3.669e+04   1336.563     27.452      0.000    3.41e+04    3.93e+04\n",
            "==============================================================================\n",
            "\n",
            "The condition number is large, 1.22e+05. This might indicate that there are\n",
            "strong multicollinearity or other numerical problems.\n"
          ],
          "name": "stdout"
        },
        {
          "output_type": "stream",
          "text": [
            "/usr/local/lib/python3.6/dist-packages/statsmodels/regression/quantile_regression.py:192: IterationLimitWarning: Maximum number of iterations (1000) reached.\n",
            "  \") reached.\", IterationLimitWarning)\n"
          ],
          "name": "stderr"
        },
        {
          "output_type": "stream",
          "text": [
            "                         QuantReg Regression Results                          \n",
            "==============================================================================\n",
            "Dep. Variable:                      y   Pseudo R-squared:               0.3969\n",
            "Model:                       QuantReg   Bandwidth:                   2.260e+04\n",
            "Method:                 Least Squares   Sparsity:                    3.058e+05\n",
            "Date:                Sun, 22 Nov 2020   No. Observations:                21610\n",
            "Time:                        10:16:19   Df Residuals:                    21602\n",
            "                                        Df Model:                            7\n",
            "==============================================================================\n",
            "                 coef    std err          t      P>|t|      [0.025      0.975]\n",
            "------------------------------------------------------------------------------\n",
            "Intercept  -3.042e+07   9.64e+05    -31.560      0.000   -3.23e+07   -2.85e+07\n",
            "x__[0]      6.115e+05   7676.217     79.658      0.000    5.96e+05    6.27e+05\n",
            "x__[1]     -5464.0762   7787.771     -0.702      0.483   -2.07e+04    9800.530\n",
            "x__[2]      5.057e+05   1.31e+04     38.499      0.000     4.8e+05    5.31e+05\n",
            "x__[3]      1.149e+05   1226.440     93.706      0.000    1.13e+05    1.17e+05\n",
            "x__[4]      7.577e+04   1544.932     49.042      0.000    7.27e+04    7.88e+04\n",
            "x__[5]      5.204e+04   1827.567     28.477      0.000    4.85e+04    5.56e+04\n",
            "x__[6]      4.627e+04   1626.314     28.448      0.000    4.31e+04    4.95e+04\n",
            "==============================================================================\n",
            "\n",
            "The condition number is large, 1.22e+05. This might indicate that there are\n",
            "strong multicollinearity or other numerical problems.\n",
            "                         QuantReg Regression Results                          \n",
            "==============================================================================\n",
            "Dep. Variable:                      y   Pseudo R-squared:               0.4292\n",
            "Model:                       QuantReg   Bandwidth:                   2.127e+04\n",
            "Method:                 Least Squares   Sparsity:                    4.914e+05\n",
            "Date:                Sun, 22 Nov 2020   No. Observations:                21610\n",
            "Time:                        10:16:21   Df Residuals:                    21602\n",
            "                                        Df Model:                            7\n",
            "==============================================================================\n",
            "                 coef    std err          t      P>|t|      [0.025      0.975]\n",
            "------------------------------------------------------------------------------\n",
            "Intercept  -4.946e+07   1.42e+06    -34.708      0.000   -5.22e+07   -4.67e+07\n",
            "x__[0]      7.522e+05   9409.605     79.938      0.000    7.34e+05    7.71e+05\n",
            "x__[1]     -1.056e+05   1.11e+04     -9.513      0.000   -1.27e+05   -8.38e+04\n",
            "x__[2]      8.331e+05   1.83e+04     45.502      0.000    7.97e+05    8.69e+05\n",
            "x__[3]      1.341e+05   1907.477     70.301      0.000     1.3e+05    1.38e+05\n",
            "x__[4]      1.034e+05   2121.339     48.723      0.000    9.92e+04    1.08e+05\n",
            "x__[5]      6.305e+04   2638.777     23.895      0.000    5.79e+04    6.82e+04\n",
            "x__[6]      5.815e+04   2369.141     24.546      0.000    5.35e+04    6.28e+04\n",
            "==============================================================================\n",
            "\n",
            "The condition number is large, 1.22e+05. This might indicate that there are\n",
            "strong multicollinearity or other numerical problems.\n"
          ],
          "name": "stdout"
        },
        {
          "output_type": "stream",
          "text": [
            "/usr/local/lib/python3.6/dist-packages/statsmodels/regression/quantile_regression.py:192: IterationLimitWarning: Maximum number of iterations (1000) reached.\n",
            "  \") reached.\", IterationLimitWarning)\n"
          ],
          "name": "stderr"
        }
      ]
    },
    {
      "cell_type": "markdown",
      "metadata": {
        "id": "UP96lqnTiQza"
      },
      "source": [
        "> the coefecients of the quantile model and the linear model are different\n",
        "\n",
        "- The intercept in the the:\n",
        "    * 25 th precentile : -1687.71843\n",
        "    * 50 th precentile : -3335.95806\n",
        "    * 75 th precentile : -5423.94760"
      ]
    },
    {
      "cell_type": "markdown",
      "metadata": {
        "id": "tw6y8GU6VKzP"
      },
      "source": [
        "> The attributes do not have the same scale so plotting them would be ineffecient"
      ]
    },
    {
      "cell_type": "markdown",
      "metadata": {
        "id": "52nV09tUigE4"
      },
      "source": [
        "used:\n",
        " -  when you have data that the shape of the conditional distributions changes and therefore a model that is more flexible(quantile regression) is needed"
      ]
    },
    {
      "cell_type": "markdown",
      "metadata": {
        "id": "rmafoeYPqUfq"
      },
      "source": [
        "### Ridge"
      ]
    },
    {
      "cell_type": "markdown",
      "metadata": {
        "id": "f8e9Du7BXwMK"
      },
      "source": [
        "- importing the liblaties"
      ]
    },
    {
      "cell_type": "code",
      "metadata": {
        "colab": {
          "base_uri": "https://localhost:8080/"
        },
        "id": "GJzOft8TvpcJ",
        "outputId": "bbee0122-5123-43ec-c66f-6074eb445a47"
      },
      "source": [
        "from sklearn.linear_model import Ridge\n",
        "!pip install pydataset\n",
        "from pydataset import data "
      ],
      "execution_count": 16,
      "outputs": [
        {
          "output_type": "stream",
          "text": [
            "Collecting pydataset\n",
            "\u001b[?25l  Downloading https://files.pythonhosted.org/packages/4f/15/548792a1bb9caf6a3affd61c64d306b08c63c8a5a49e2c2d931b67ec2108/pydataset-0.2.0.tar.gz (15.9MB)\n",
            "\u001b[K     |████████████████████████████████| 15.9MB 1.7MB/s \n",
            "\u001b[?25hRequirement already satisfied: pandas in /usr/local/lib/python3.6/dist-packages (from pydataset) (1.1.4)\n",
            "Requirement already satisfied: pytz>=2017.2 in /usr/local/lib/python3.6/dist-packages (from pandas->pydataset) (2018.9)\n",
            "Requirement already satisfied: numpy>=1.15.4 in /usr/local/lib/python3.6/dist-packages (from pandas->pydataset) (1.18.5)\n",
            "Requirement already satisfied: python-dateutil>=2.7.3 in /usr/local/lib/python3.6/dist-packages (from pandas->pydataset) (2.8.1)\n",
            "Requirement already satisfied: six>=1.5 in /usr/local/lib/python3.6/dist-packages (from python-dateutil>=2.7.3->pandas->pydataset) (1.15.0)\n",
            "Building wheels for collected packages: pydataset\n",
            "  Building wheel for pydataset (setup.py) ... \u001b[?25l\u001b[?25hdone\n",
            "  Created wheel for pydataset: filename=pydataset-0.2.0-cp36-none-any.whl size=15939431 sha256=496b27761fec0e46e93675aef2b4e59f8bd5285b0f9cedd4fa67cf29612e239f\n",
            "  Stored in directory: /root/.cache/pip/wheels/fe/3f/dc/5d02ccc767317191b12d042dd920fcf3432fab74bc7978598b\n",
            "Successfully built pydataset\n",
            "Installing collected packages: pydataset\n",
            "Successfully installed pydataset-0.2.0\n",
            "initiated datasets repo at: /root/.pydataset/\n"
          ],
          "name": "stdout"
        }
      ]
    },
    {
      "cell_type": "markdown",
      "metadata": {
        "id": "FQOMVsxAX0Cl"
      },
      "source": [
        "- creating the dataframes"
      ]
    },
    {
      "cell_type": "code",
      "metadata": {
        "id": "zuc8XZbJwrLp"
      },
      "source": [
        "x_ =x[['lat','long','waterfront','grade','view','bathrooms','condition']]\n",
        "y_=houses['price']\n",
        "y=np.log10(y_)"
      ],
      "execution_count": 30,
      "outputs": []
    },
    {
      "cell_type": "code",
      "metadata": {
        "id": "yFvI_IoSus-1"
      },
      "source": [
        "ridge = Ridge(normalize=True)\n",
        "search = GridSearchCV(estimator=ridge, param_grid={'alpha':np.logspace(-5,2,8)},  scoring='neg_mean_squared_error',n_jobs=1,refit=True,cv=10)"
      ],
      "execution_count": 21,
      "outputs": []
    },
    {
      "cell_type": "markdown",
      "metadata": {
        "id": "E5XdUf_CYUWY"
      },
      "source": [
        "- creating test and train sets and getting the alpha"
      ]
    },
    {
      "cell_type": "code",
      "metadata": {
        "colab": {
          "base_uri": "https://localhost:8080/"
        },
        "id": "ZRvAro-w6D_x",
        "outputId": "7791c0c1-defb-45d0-9abf-4f4bd81905a8"
      },
      "source": [
        "x_train, x_test, y_train, y_test = train_test_split(x_, y, test_size=0.25, random_state=101)\n",
        "search.fit(x_train,y_train)\n",
        "search.best_params_"
      ],
      "execution_count": 31,
      "outputs": [
        {
          "output_type": "execute_result",
          "data": {
            "text/plain": [
              "{'alpha': 0.0001}"
            ]
          },
          "metadata": {
            "tags": []
          },
          "execution_count": 31
        }
      ]
    },
    {
      "cell_type": "code",
      "metadata": {
        "colab": {
          "base_uri": "https://localhost:8080/"
        },
        "id": "KBaCV4i2uxx_",
        "outputId": "9077044f-ce46-4fac-c1ca-0cc23d9b303d"
      },
      "source": [
        "{'alpha': 0.001}\n",
        "abs(search.best_score_)"
      ],
      "execution_count": 23,
      "outputs": [
        {
          "output_type": "execute_result",
          "data": {
            "text/plain": [
              "53415586723.80586"
            ]
          },
          "metadata": {
            "tags": []
          },
          "execution_count": 23
        }
      ]
    },
    {
      "cell_type": "markdown",
      "metadata": {
        "id": "0SeqJoQdYhJl"
      },
      "source": [
        "- creating the model"
      ]
    },
    {
      "cell_type": "code",
      "metadata": {
        "colab": {
          "base_uri": "https://localhost:8080/"
        },
        "id": "ZhxhtgoEu6LT",
        "outputId": "7d36e986-760e-4066-ff89-f1f6a81895f7"
      },
      "source": [
        "ridge = Ridge(normalize=True,alpha=0.001)\n",
        "ridge.fit(x_train,y_train)\n",
        "y_pred=ridge.predict(x_test)\n",
        "\n",
        "y_pred=unlog(y_pred)\n",
        "y_test=unlog(y_test)\n",
        "ridg =(metrics.mean_squared_error(y_test,y_pred))\n",
        "ridg"
      ],
      "execution_count": 32,
      "outputs": [
        {
          "output_type": "execute_result",
          "data": {
            "text/plain": [
              "46224021456.22915"
            ]
          },
          "metadata": {
            "tags": []
          },
          "execution_count": 32
        }
      ]
    },
    {
      "cell_type": "markdown",
      "metadata": {
        "id": "q9X1kFEdYnK7"
      },
      "source": [
        "- getting the coeficients of the ridge regression"
      ]
    },
    {
      "cell_type": "code",
      "metadata": {
        "colab": {
          "base_uri": "https://localhost:8080/"
        },
        "id": "y6pI5yBYvS2_",
        "outputId": "7fbb2acb-71b0-4078-ae62-947ea63194e3"
      },
      "source": [
        "coef_dict_baseline = {}\n",
        "for coef, feat in zip(ridge.coef_,x_.columns):\n",
        "    coef_dict_baseline[feat] = coef\n",
        "coef_dict_baseline"
      ],
      "execution_count": 34,
      "outputs": [
        {
          "output_type": "execute_result",
          "data": {
            "text/plain": [
              "{'bathrooms': 0.05447539052185979,\n",
              " 'condition': 0.04727413036963982,\n",
              " 'grade': 0.09985879864186044,\n",
              " 'lat': 0.6386966914003586,\n",
              " 'long': -0.018183264030386424,\n",
              " 'view': 0.04435549872466886,\n",
              " 'waterfront': 0.16447013107835637}"
            ]
          },
          "metadata": {
            "tags": []
          },
          "execution_count": 34
        }
      ]
    },
    {
      "cell_type": "code",
      "metadata": {
        "colab": {
          "base_uri": "https://localhost:8080/",
          "height": 293
        },
        "id": "FKH9_xdihFsX",
        "outputId": "14be6d32-9f12-4c08-c308-4e30330ade61"
      },
      "source": [
        "comp_=pd.DataFrame({'Actual':y_test,'Predicted':y_pred})\n",
        "print('R2 score',metrics.r2_score(y_test, y_pred)*100,'%')\n",
        "comp_.describe()"
      ],
      "execution_count": 35,
      "outputs": [
        {
          "output_type": "stream",
          "text": [
            "R2 score 66.00975191278766 %\n"
          ],
          "name": "stdout"
        },
        {
          "output_type": "execute_result",
          "data": {
            "text/html": [
              "<div>\n",
              "<style scoped>\n",
              "    .dataframe tbody tr th:only-of-type {\n",
              "        vertical-align: middle;\n",
              "    }\n",
              "\n",
              "    .dataframe tbody tr th {\n",
              "        vertical-align: top;\n",
              "    }\n",
              "\n",
              "    .dataframe thead th {\n",
              "        text-align: right;\n",
              "    }\n",
              "</style>\n",
              "<table border=\"1\" class=\"dataframe\">\n",
              "  <thead>\n",
              "    <tr style=\"text-align: right;\">\n",
              "      <th></th>\n",
              "      <th>Actual</th>\n",
              "      <th>Predicted</th>\n",
              "    </tr>\n",
              "  </thead>\n",
              "  <tbody>\n",
              "    <tr>\n",
              "      <th>count</th>\n",
              "      <td>5403.000000</td>\n",
              "      <td>5403.000000</td>\n",
              "    </tr>\n",
              "    <tr>\n",
              "      <th>mean</th>\n",
              "      <td>545308.105127</td>\n",
              "      <td>519853.540710</td>\n",
              "    </tr>\n",
              "    <tr>\n",
              "      <th>std</th>\n",
              "      <td>368805.075920</td>\n",
              "      <td>293348.331951</td>\n",
              "    </tr>\n",
              "    <tr>\n",
              "      <th>min</th>\n",
              "      <td>82000.000000</td>\n",
              "      <td>88985.961268</td>\n",
              "    </tr>\n",
              "    <tr>\n",
              "      <th>25%</th>\n",
              "      <td>324000.000000</td>\n",
              "      <td>345388.411595</td>\n",
              "    </tr>\n",
              "    <tr>\n",
              "      <th>50%</th>\n",
              "      <td>455000.000000</td>\n",
              "      <td>457796.372370</td>\n",
              "    </tr>\n",
              "    <tr>\n",
              "      <th>75%</th>\n",
              "      <td>650000.000000</td>\n",
              "      <td>608052.465989</td>\n",
              "    </tr>\n",
              "    <tr>\n",
              "      <th>max</th>\n",
              "      <td>5570000.000000</td>\n",
              "      <td>5219066.526038</td>\n",
              "    </tr>\n",
              "  </tbody>\n",
              "</table>\n",
              "</div>"
            ],
            "text/plain": [
              "              Actual      Predicted\n",
              "count    5403.000000    5403.000000\n",
              "mean   545308.105127  519853.540710\n",
              "std    368805.075920  293348.331951\n",
              "min     82000.000000   88985.961268\n",
              "25%    324000.000000  345388.411595\n",
              "50%    455000.000000  457796.372370\n",
              "75%    650000.000000  608052.465989\n",
              "max   5570000.000000 5219066.526038"
            ]
          },
          "metadata": {
            "tags": []
          },
          "execution_count": 35
        }
      ]
    },
    {
      "cell_type": "markdown",
      "metadata": {
        "id": "RXEg2tm3jcGS"
      },
      "source": [
        "### lasso"
      ]
    },
    {
      "cell_type": "markdown",
      "metadata": {
        "id": "6jpPI8GrZTcn"
      },
      "source": [
        "- importing libraries"
      ]
    },
    {
      "cell_type": "code",
      "metadata": {
        "id": "IaMTskjcj8aY"
      },
      "source": [
        "from sklearn import linear_model\n",
        "from sklearn.preprocessing import StandardScaler\n",
        "from sklearn.model_selection import GridSearchCV\n",
        "import warnings\n",
        "warnings.filterwarnings(\"ignore\")"
      ],
      "execution_count": 20,
      "outputs": []
    },
    {
      "cell_type": "markdown",
      "metadata": {
        "id": "fYJiwUzhZWbx"
      },
      "source": [
        "- Creating the datasets"
      ]
    },
    {
      "cell_type": "code",
      "metadata": {
        "id": "BfgKwO9sjfLI"
      },
      "source": [
        "x_ =x[['lat','long','waterfront','grade','view','bathrooms','condition']]\n",
        "y=houses['price']"
      ],
      "execution_count": null,
      "outputs": []
    },
    {
      "cell_type": "markdown",
      "metadata": {
        "id": "n9l5dW9DZMSM"
      },
      "source": [
        "- Scaling the attributes dataset"
      ]
    },
    {
      "cell_type": "code",
      "metadata": {
        "id": "Dr9QCrUljdwn"
      },
      "source": [
        "scaler = StandardScaler()\n",
        "scaler.fit(x_)\n",
        "x_ = scaler.transform(x_)"
      ],
      "execution_count": null,
      "outputs": []
    },
    {
      "cell_type": "markdown",
      "metadata": {
        "id": "PM-akff5Y-ix"
      },
      "source": [
        "- Creating the test and train sets, and creating the Lasso regression"
      ]
    },
    {
      "cell_type": "code",
      "metadata": {
        "colab": {
          "base_uri": "https://localhost:8080/"
        },
        "id": "3ZRSg6Ldlauc",
        "outputId": "86595b96-ca88-4b39-b76e-70bd900273ca"
      },
      "source": [
        "x_train, x_test, y_train, y_test = train_test_split(x_, y, test_size=0.25, random_state=101)\n",
        "parameters = {'alpha': np.concatenate((np.arange(0.1,2,0.1), np.arange(2, 5, 0.5), np.arange(5, 25, 1)))}\n",
        "linear = linear_model.LinearRegression()\n",
        "lasso = linear_model.Lasso() \n",
        "gridlasso = GridSearchCV(lasso, parameters, scoring ='r2') \n",
        "\n",
        "gridlasso.fit(x_train, y_train) \n",
        "linear.fit(x_train, y_train)\n",
        "print(\"lasso best parameters:\", gridlasso.best_params_) \n",
        "print(\"lasso score:\", gridlasso.score(x_test, y_test))\n",
        "print(\"linear score:\", linear.score(x_test, y_test)) \n",
        "lass=metrics.mean_squared_error(unlog(y_test), unlog(gridlasso.predict(x_test)))\n",
        "print(\"lasso MSE:\", lass)\n",
        "print(\"linear MSE:\", metrics.mean_squared_error(y_test, linear.predict(x_test))) \n",
        "print(\"lasso best estimator coef:\", gridlasso.best_estimator_.coef_)\n",
        "print(\"linear coef:\", linear.coef_)"
      ],
      "execution_count": null,
      "outputs": [
        {
          "output_type": "stream",
          "text": [
            "lasso best parameters: {'alpha': 24.0}\n",
            "lasso score: 0.6117233611296362\n",
            "linear score: 0.6117312598896085\n",
            "lasso MSE: 52802520417.167625\n",
            "linear MSE: 52801446248.92529\n",
            "lasso best estimator coef: [ 89904.91957836 -17465.72691633  48590.69145738 181206.73927655\n",
            "  64141.57626584  62836.73038358  42802.99193127]\n",
            "linear coef: [ 89925.43079613 -17489.49597017  48606.90974965 181216.718884\n",
            "  64147.62100561  62860.11555348  42828.83657319]\n"
          ],
          "name": "stdout"
        }
      ]
    },
    {
      "cell_type": "markdown",
      "metadata": {
        "id": "PeTcTZ8vY1Bn"
      },
      "source": [
        "- Checking whether attributes were shrunk to 0"
      ]
    },
    {
      "cell_type": "code",
      "metadata": {
        "colab": {
          "base_uri": "https://localhost:8080/",
          "height": 457
        },
        "id": "w7oBAoQJlbSi",
        "outputId": "d184b8ac-cbeb-4586-dca7-e67573be397a"
      },
      "source": [
        "coefsLasso = [] \n",
        "alphasLasso = np.arange (0, 18, 0.1) \n",
        "\n",
        "for i in range(180):\n",
        "    lasso = linear_model.Lasso(alpha=alphasLasso[i])\n",
        "    lasso.fit(x_train, y_train)\n",
        "    coefsLasso.append(lasso.coef_) \n",
        "\n",
        "plt.figure(figsize = (16,7))\n",
        "plt.subplot(121)\n",
        "plt.plot(alphasLasso, coefsLasso)\n",
        "plt.title('Lasso coefficients')\n",
        "plt.xlabel('alpha')\n",
        "plt.ylabel('coefs')\n",
        "plt.show()"
      ],
      "execution_count": null,
      "outputs": [
        {
          "output_type": "display_data",
          "data": {
            "image/png": "[encoded data removed]",
            "text/plain": [
              "<Figure size 1152x504 with 1 Axes>"
            ]
          },
          "metadata": {
            "tags": [],
            "needs_background": "light"
          }
        }
      ]
    },
    {
      "cell_type": "markdown",
      "metadata": {
        "id": "qQOT5NjUpnhs"
      },
      "source": [
        "> as it turns out all the culumns being used are rather important so none was shrunk to zero"
      ]
    },
    {
      "cell_type": "markdown",
      "metadata": {
        "id": "T3LFcwdoqIvM"
      },
      "source": [
        "### Elastic net"
      ]
    },
    {
      "cell_type": "markdown",
      "metadata": {
        "id": "O8KpKNcGZey_"
      },
      "source": [
        "- importing the libraries"
      ]
    },
    {
      "cell_type": "code",
      "metadata": {
        "id": "g3T2wforqOR_"
      },
      "source": [
        "from sklearn.linear_model import ElasticNet"
      ],
      "execution_count": 36,
      "outputs": []
    },
    {
      "cell_type": "markdown",
      "metadata": {
        "id": "4C678DYRZhsH"
      },
      "source": [
        "- creating the datasets"
      ]
    },
    {
      "cell_type": "code",
      "metadata": {
        "id": "WEZUO1h2qg6V"
      },
      "source": [
        "x_ =x[['lat','long','waterfront','grade','view','bathrooms','condition']]\n",
        "y=houses['price']"
      ],
      "execution_count": 41,
      "outputs": []
    },
    {
      "cell_type": "markdown",
      "metadata": {
        "id": "jOVKpauiZsCm"
      },
      "source": [
        "- Setting parameters"
      ]
    },
    {
      "cell_type": "code",
      "metadata": {
        "id": "qfIo58vpB9wx"
      },
      "source": [
        "elastic=ElasticNet(normalize=True)\n",
        "search=GridSearchCV(estimator=elastic,param_grid={'alpha':np.logspace(-5,2,8),'l1_ratio':[.2,.4,.6,.8]},scoring='neg_mean_squared_error',n_jobs=1,refit=True,cv=10)"
      ],
      "execution_count": 42,
      "outputs": []
    },
    {
      "cell_type": "markdown",
      "metadata": {
        "id": "1a3w8WVtZvkf"
      },
      "source": [
        "- Creating the train and test datasets and getting the parameters"
      ]
    },
    {
      "cell_type": "code",
      "metadata": {
        "colab": {
          "base_uri": "https://localhost:8080/"
        },
        "id": "MtM-FyuVCNGd",
        "outputId": "3d96b265-441e-4b3e-85a4-7af2366fb35c"
      },
      "source": [
        "x_train, x_test, y_train, y_test = train_test_split(x_, y, test_size=0.25, random_state=101)\n",
        "search.fit(x_train,y_train)\n",
        "search.best_params_"
      ],
      "execution_count": 43,
      "outputs": [
        {
          "output_type": "execute_result",
          "data": {
            "text/plain": [
              "{'alpha': 1e-05, 'l1_ratio': 0.8}"
            ]
          },
          "metadata": {
            "tags": []
          },
          "execution_count": 43
        }
      ]
    },
    {
      "cell_type": "markdown",
      "metadata": {
        "id": "aENG0LYNaFnq"
      },
      "source": [
        "- Setting the parameters and making the model"
      ]
    },
    {
      "cell_type": "code",
      "metadata": {
        "colab": {
          "base_uri": "https://localhost:8080/"
        },
        "id": "R4CzbZufCRK8",
        "outputId": "79906f5b-bb97-48e1-aecc-e52e01f3f8d4"
      },
      "source": [
        "abs(search.best_score_)\n",
        "elastic=ElasticNet(normalize=True,alpha=0.00674,l1_ratio=0.8)\n",
        "elastic.fit(x_train,y_train)\n",
        "y_pred=elastic.predict(x_test)\n",
        "elast=(metrics.mean_squared_error(y_test,y_pred))\n",
        "print(elast)"
      ],
      "execution_count": 44,
      "outputs": [
        {
          "output_type": "stream",
          "text": [
            "124697973165.04813\n"
          ],
          "name": "stdout"
        }
      ]
    },
    {
      "cell_type": "markdown",
      "metadata": {
        "id": "LRwN-yJjaOqk"
      },
      "source": [
        "- Getting the coefecients of the columns"
      ]
    },
    {
      "cell_type": "code",
      "metadata": {
        "colab": {
          "base_uri": "https://localhost:8080/"
        },
        "id": "e-xsekrbCWov",
        "outputId": "89089078-5049-43cf-c20b-9072a4217345"
      },
      "source": [
        "coef_dict_baseline = {}\n",
        "for coef, feat in zip(elastic.coef_,x_.columns):\n",
        "    coef_dict_baseline[feat] = coef\n",
        "coef_dict_baseline"
      ],
      "execution_count": 45,
      "outputs": [
        {
          "output_type": "execute_result",
          "data": {
            "text/plain": [
              "{'bathrooms': 10410.179084594876,\n",
              " 'condition': 938.2974388194829,\n",
              " 'grade': 8810.141516010575,\n",
              " 'lat': 35203.82993115946,\n",
              " 'long': 1572.031610115749,\n",
              " 'view': 7993.905381787889,\n",
              " 'waterfront': 45317.268829945366}"
            ]
          },
          "metadata": {
            "tags": []
          },
          "execution_count": 45
        }
      ]
    },
    {
      "cell_type": "code",
      "metadata": {
        "colab": {
          "base_uri": "https://localhost:8080/",
          "height": 293
        },
        "id": "gU7kgn8yjO9a",
        "outputId": "0c6d4c17-b954-42b4-f92d-d3d50345848f"
      },
      "source": [
        "comp_=pd.DataFrame({'Actual':y_test,'Predicted':y_pred})\n",
        "print('R2 score',metrics.r2_score(y_test, y_pred)*100,'%')\n",
        "comp_.describe()"
      ],
      "execution_count": 46,
      "outputs": [
        {
          "output_type": "stream",
          "text": [
            "R2 score 8.304926522541823 %\n"
          ],
          "name": "stdout"
        },
        {
          "output_type": "execute_result",
          "data": {
            "text/html": [
              "<div>\n",
              "<style scoped>\n",
              "    .dataframe tbody tr th:only-of-type {\n",
              "        vertical-align: middle;\n",
              "    }\n",
              "\n",
              "    .dataframe tbody tr th {\n",
              "        vertical-align: top;\n",
              "    }\n",
              "\n",
              "    .dataframe thead th {\n",
              "        text-align: right;\n",
              "    }\n",
              "</style>\n",
              "<table border=\"1\" class=\"dataframe\">\n",
              "  <thead>\n",
              "    <tr style=\"text-align: right;\">\n",
              "      <th></th>\n",
              "      <th>Actual</th>\n",
              "      <th>Predicted</th>\n",
              "    </tr>\n",
              "  </thead>\n",
              "  <tbody>\n",
              "    <tr>\n",
              "      <th>count</th>\n",
              "      <td>5403.000000</td>\n",
              "      <td>5403.000000</td>\n",
              "    </tr>\n",
              "    <tr>\n",
              "      <th>mean</th>\n",
              "      <td>545308.105127</td>\n",
              "      <td>538612.303402</td>\n",
              "    </tr>\n",
              "    <tr>\n",
              "      <th>std</th>\n",
              "      <td>368805.075920</td>\n",
              "      <td>20903.207575</td>\n",
              "    </tr>\n",
              "    <tr>\n",
              "      <th>min</th>\n",
              "      <td>82000.000000</td>\n",
              "      <td>480653.292698</td>\n",
              "    </tr>\n",
              "    <tr>\n",
              "      <th>25%</th>\n",
              "      <td>324000.000000</td>\n",
              "      <td>524443.059573</td>\n",
              "    </tr>\n",
              "    <tr>\n",
              "      <th>50%</th>\n",
              "      <td>455000.000000</td>\n",
              "      <td>535760.948609</td>\n",
              "    </tr>\n",
              "    <tr>\n",
              "      <th>75%</th>\n",
              "      <td>650000.000000</td>\n",
              "      <td>549118.619388</td>\n",
              "    </tr>\n",
              "    <tr>\n",
              "      <th>max</th>\n",
              "      <td>5570000.000000</td>\n",
              "      <td>693263.619498</td>\n",
              "    </tr>\n",
              "  </tbody>\n",
              "</table>\n",
              "</div>"
            ],
            "text/plain": [
              "              Actual     Predicted\n",
              "count    5403.000000   5403.000000\n",
              "mean   545308.105127 538612.303402\n",
              "std    368805.075920  20903.207575\n",
              "min     82000.000000 480653.292698\n",
              "25%    324000.000000 524443.059573\n",
              "50%    455000.000000 535760.948609\n",
              "75%    650000.000000 549118.619388\n",
              "max   5570000.000000 693263.619498"
            ]
          },
          "metadata": {
            "tags": []
          },
          "execution_count": 46
        }
      ]
    },
    {
      "cell_type": "markdown",
      "metadata": {
        "id": "kKnGaVG5xkvc"
      },
      "source": [
        "## conclusion"
      ]
    },
    {
      "cell_type": "markdown",
      "metadata": {
        "id": "QOVsVPLoAOup"
      },
      "source": [
        "### Predictions"
      ]
    },
    {
      "cell_type": "markdown",
      "metadata": {
        "id": "YtojmYHtBFAw"
      },
      "source": [
        "Predicting using the same values on the different models.\n",
        "- Latitude : 47.710\n",
        "- Longitude: -122.19\n",
        "- Waterfront: 0\n",
        "- Grade : 5\n",
        "- Views : 3\n",
        "- Bathrooms : 2\n",
        "- Condition : 6"
      ]
    },
    {
      "cell_type": "code",
      "metadata": {
        "id": "cBVpAvPRAZC5"
      },
      "source": [
        "prd=[47.710,-122.19,0,5,3,2,6]"
      ],
      "execution_count": 48,
      "outputs": []
    },
    {
      "cell_type": "code",
      "metadata": {
        "colab": {
          "base_uri": "https://localhost:8080/"
        },
        "id": "MCCayBVTA567",
        "outputId": "d82d0764-4e3e-4794-af2d-dd07c6b42778"
      },
      "source": [
        "'Linear model price prediction',linear.predict([prd])"
      ],
      "execution_count": null,
      "outputs": [
        {
          "output_type": "execute_result",
          "data": {
            "text/plain": [
              "('Linear model price prediction', array([8448079.19658163]))"
            ]
          },
          "metadata": {
            "tags": []
          },
          "execution_count": 280
        }
      ]
    },
    {
      "cell_type": "code",
      "metadata": {
        "colab": {
          "base_uri": "https://localhost:8080/"
        },
        "id": "c0pOQsdkB9Ac",
        "outputId": "41b5ea02-ca88-4711-ad88-6f203b5f2def"
      },
      "source": [
        "'Ridge model price prediction',unlog(ridge.predict([prd]))"
      ],
      "execution_count": 51,
      "outputs": [
        {
          "output_type": "execute_result",
          "data": {
            "text/plain": [
              "('Ridge model price prediction', array([542221.66090859]))"
            ]
          },
          "metadata": {
            "tags": []
          },
          "execution_count": 51
        }
      ]
    },
    {
      "cell_type": "code",
      "metadata": {
        "colab": {
          "base_uri": "https://localhost:8080/"
        },
        "id": "kVgq2slJCDAS",
        "outputId": "089f9420-d4a5-4434-9f9c-0d3429923b49"
      },
      "source": [
        "'Lasso model price prediction',lasso.predict([prd])"
      ],
      "execution_count": null,
      "outputs": [
        {
          "output_type": "execute_result",
          "data": {
            "text/plain": [
              "('Lasso model price prediction', array([8444970.51916429]))"
            ]
          },
          "metadata": {
            "tags": []
          },
          "execution_count": 282
        }
      ]
    },
    {
      "cell_type": "code",
      "metadata": {
        "colab": {
          "base_uri": "https://localhost:8080/"
        },
        "id": "z3UOGpm5CJOr",
        "outputId": "3b9db676-3afd-4958-ef3d-c140181c3d05"
      },
      "source": [
        "'Elastic model price prediction',elastic.predict([prd])"
      ],
      "execution_count": 50,
      "outputs": [
        {
          "output_type": "execute_result",
          "data": {
            "text/plain": [
              "('Elastic model price prediction', array([543418.69252362]))"
            ]
          },
          "metadata": {
            "tags": []
          },
          "execution_count": 50
        }
      ]
    },
    {
      "cell_type": "markdown",
      "metadata": {
        "id": "liog2842CVm3"
      },
      "source": [
        "> - The lasso and linear models predicted pretty similar values\n",
        "  - The Elastic model predicted the lowest price "
      ]
    },
    {
      "cell_type": "markdown",
      "metadata": {
        "id": "FnuDDakkARrL"
      },
      "source": [
        "### best model"
      ]
    },
    {
      "cell_type": "code",
      "metadata": {
        "colab": {
          "base_uri": "https://localhost:8080/"
        },
        "id": "nIQ4kuRLCtJl",
        "outputId": "97403a25-fad8-4e16-f758-6110d0f0763b"
      },
      "source": [
        "k={'ridge ':ridg,'lasso ':lass,'elast ':elast}\n",
        "small=min(k,key=k.get)\n",
        "print(small,k[small])"
      ],
      "execution_count": null,
      "outputs": [
        {
          "output_type": "stream",
          "text": [
            "lasso  52802520417.167625\n"
          ],
          "name": "stdout"
        }
      ]
    },
    {
      "cell_type": "code",
      "metadata": {
        "colab": {
          "base_uri": "https://localhost:8080/"
        },
        "id": "Ez2vfgnCzX7n",
        "outputId": "71685112-da7b-4890-cac9-cf00b277184d"
      },
      "source": [
        "k={'ridge ':ridg,'lasso ':lass,'elast ':elast,'linear':lin}\n",
        "small=min(k,key=k.get)\n",
        "print(small,k[small])"
      ],
      "execution_count": null,
      "outputs": [
        {
          "output_type": "execute_result",
          "data": {
            "text/plain": [
              "('linear', 44206527585.525375)"
            ]
          },
          "metadata": {
            "tags": []
          },
          "execution_count": 273
        }
      ]
    },
    {
      "cell_type": "markdown",
      "metadata": {
        "id": "QaRTSkEy2L5Z"
      },
      "source": [
        "> of the three models that deal with multicolinearity the lasso regression had the lowest mse therefore it was best of the three on this dataset\n",
        "\n",
        "> However the linear model had a lower overall mse hence would be the prefered model, this could be beause the attributes used in the models were rather important to the prices of the houses and were not multicollinear and therefore the normal least squares proved to be more effective."
      ]
    },
    {
      "cell_type": "markdown",
      "metadata": {
        "id": "ILHKXF0qDhFq"
      },
      "source": [
        "> The elastic and linear models are similar in some ways since they both predicted values that were really close and were the models with the lowest mse's"
      ]
    },
    {
      "cell_type": "markdown",
      "metadata": {
        "id": "rJS90XUyD6bP"
      },
      "source": [
        "#### Challenging the solution"
      ]
    },
    {
      "cell_type": "markdown",
      "metadata": {
        "id": "bjsbl9qFD-RJ"
      },
      "source": [
        "> In this case the attributes used in the models were not that colinear and were important to the prediction of the house prices, and therrefore the linear model proved to be better. However it is not confirmed that this would be the case had we used different attributes and this warants further study"
      ]
    }
  ]
}